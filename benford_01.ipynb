{
 "cells": [
  {
   "cell_type": "markdown",
   "metadata": {
    "id": "foobar"
   },
   "source": [
    "## Preface\n",
    "この Notebook は、[Election 2020: Benford’s Law/ベンフォードの法則は国家会計や参院選得票数でも成立しているか？](https://ggcs.io/2020/11/30/benfords-law-01/) 付録のPython scriptsの手順詳細版です。\n",
    "- Website: ごたごた気流調査所 https://ggcs.io\n",
    "- GitHub : Gota Gota Current Survey https://github.com/ggcurrs/gota2-observatory\n",
    "- Version 1.1.0\n",
    "- Created: 2020-12-03\n",
    "- Updated: 2020-12-06"
   ]
  },
  {
   "cell_type": "markdown",
   "metadata": {
    "id": "foobar"
   },
   "source": [
    "# Benford's law Set Generator: benford_table()\n",
    "- 検査に使う桁数（引数）を与えると、{先頭 k 桁の数字の並び d: このパターンが出現する確率} を Dictionary として返します。\n",
    "- 例として、k=1（先頭一桁）の場合の確率分布表を出力するようにしてあります。"
   ]
  },
  {
   "cell_type": "code",
   "execution_count": 1,
   "metadata": {
    "colab": {
     "base_uri": "https://localhost:8080/"
    },
    "id": "foobar",
    "outputId": "foobar"
   },
   "outputs": [
    {
     "name": "stdout",
     "output_type": "stream",
     "text": [
      "d \t P(d)\n",
      "1 \t 0.30103\n",
      "2 \t 0.17609\n",
      "3 \t 0.12494\n",
      "4 \t 0.09691\n",
      "5 \t 0.07918\n",
      "6 \t 0.06695\n",
      "7 \t 0.05799\n",
      "8 \t 0.05115\n",
      "9 \t 0.04576\n"
     ]
    }
   ],
   "source": [
    "import numpy as np\n",
    "\n",
    "\n",
    "def benford_table(k=1):\n",
    "    \"\"\"Generates a dictionary of Benford's Set\n",
    "    for the first k digit(s)\"\"\"\n",
    "    # First k digit(s) as a key => Probability as a value\n",
    "    benford_dict = {}\n",
    "    lower, upper = 10 ** (k - 1), 10 ** k  # lower/upper bound of the bins.\n",
    "    for d in range(lower, upper):\n",
    "        benford_dict[d] = np.log10((d + 1) / d)\n",
    "\n",
    "    return benford_dict\n",
    "\n",
    "\n",
    "if __name__ == '__main__':\n",
    "    bfd_dict = benford_table(1)  # Sample: first-digit table\n",
    "    # Draw a table\n",
    "    print('d', '\\t', 'P(d)')\n",
    "    for i in bfd_dict:\n",
    "        print(i, '\\t', f'{bfd_dict[i]:.5f}')\n"
   ]
  },
  {
   "cell_type": "markdown",
   "metadata": {
    "id": "foobar"
   },
   "source": [
    "# Obtain source data from MIC, conv to a DataFrame: get_excel()\n",
    "- サンプルとして、令和元年度決算書（一般会計歳出決算）\bをダウンロードして pandas.DataFrame にしておきます。\n",
    "- なお、実験のたびに毎回新しいファイルをダウンロードするのも行儀が悪いので、Excel object を Excel file として作業ディレクトリに保存しておくことにし、必要があればこちらを使うことにします。"
   ]
  },
  {
   "cell_type": "code",
   "execution_count": null,
   "metadata": {
    "colab": {
     "base_uri": "https://localhost:8080/"
    },
    "id": "foobar",
    "outputId": "foobar"
   },
   "outputs": [],
   "source": [
    "import requests\n",
    "import pandas as pd\n",
    "from urllib.parse import urlparse\n",
    "from pathlib import Path, PurePath\n",
    "\n",
    "\n",
    "def get_excel(my_excel_url):\n",
    "    \"\"\"Downloads an Excel file and\n",
    "    converts the first sheet to a pandas.DataFrame\"\"\"\n",
    "    df = pd.read_excel(requests.get(my_excel_url).content)\n",
    "\n",
    "    return df\n",
    "\n",
    "\n",
    "if __name__ == '__main__':\n",
    "    # [令和元年度決算書](https://www.bb.mof.go.jp/hdocs/bxss010br1a.html)\n",
    "    STLMT_FY2019 = 'https://www.bb.mof.go.jp/server/2019/excel/DL201977001.xls'\n",
    "    file_name = PurePath(urlparse(STLMT_FY2019).path).name\n",
    "\n",
    "    dl_path = PurePath('.')\n",
    "    file_path = dl_path.joinpath(file_name)\n",
    "\n",
    "    if not Path(file_path).is_file():\n",
    "        df_raw = get_excel(STLMT_FY2019)  # Downloads using the function.\n",
    "        df_raw.to_excel(file_path, index=False)  # Backup the file.\n",
    "\n",
    "    else:\n",
    "        print(file_path, 'is already downloaded.')\n",
    "        df_raw = pd.read_excel(file_path)\n",
    "\n",
    "    print('DataFrame(df_raw) is ready')\n"
   ]
  },
  {
   "cell_type": "markdown",
   "metadata": {
    "id": "foobar"
   },
   "source": [
    "# Implode the DataFrame into a list"
   ]
  },
  {
   "cell_type": "markdown",
   "metadata": {
    "id": "foobar"
   },
   "source": [
    "## Check the DataFrame\n",
    "- DataFrame(df_raw) の info() を取ると、Columns 9-14（Excel の K:P 列）に float がぎっしり詰まっているようなので、これを使うことにします。"
   ]
  },
  {
   "cell_type": "code",
   "execution_count": 3,
   "metadata": {
    "colab": {
     "base_uri": "https://localhost:8080/"
    },
    "id": "foobar",
    "outputId": "foobar"
   },
   "outputs": [
    {
     "name": "stdout",
     "output_type": "stream",
     "text": [
      "<class 'pandas.core.frame.DataFrame'>\n",
      "RangeIndex: 738 entries, 0 to 737\n",
      "Data columns (total 15 columns):\n",
      " #   Column                               Non-Null Count  Dtype  \n",
      "---  ------                               --------------  -----  \n",
      " 0   主管                                   16 non-null     object \n",
      " 1   Unnamed: 1                           722 non-null    float64\n",
      " 2   Unnamed: 2                           722 non-null    float64\n",
      " 3   Unnamed: 3                           722 non-null    float64\n",
      " 4   Unnamed: 4                           722 non-null    float64\n",
      " 5   　　　 部・款・項・目                          34 non-null     object \n",
      " 6   Unnamed: 6                           68 non-null     object \n",
      " 7   Unnamed: 7                           206 non-null    object \n",
      " 8   Unnamed: 8                           414 non-null    object \n",
      " 9   歳入予算額 \n",
      "                        (円)   738 non-null    int64  \n",
      " 10  徴収決定済額 \n",
      "                        (円)  738 non-null    int64  \n",
      " 11  収納済歳入額 \n",
      "                        (円)  738 non-null    int64  \n",
      " 12  不納欠損額 \n",
      "             (円)              738 non-null    int64  \n",
      " 13  収納未済歳入額\n",
      "                (円)          738 non-null    int64  \n",
      " 14  歳入予算額と収\n",
      "納済歳入額との\n",
      "差(△は減) (円)           738 non-null    int64  \n",
      "dtypes: float64(4), int64(6), object(5)\n",
      "memory usage: 86.6+ KB\n"
     ]
    }
   ],
   "source": [
    "df_raw.info()"
   ]
  },
  {
   "cell_type": "markdown",
   "metadata": {
    "id": "foobar"
   },
   "source": [
    "## Implode values in the selected DF columns to a list: df2list()\n",
    "- List にして改めて数値を眺めると、ゼロや負の値も混ざっています。\n",
    "- このままだと後でトラブルの原因になりそうなので、次のステップで 3 桁以上の正の整数だけを相手にすることにします。"
   ]
  },
  {
   "cell_type": "code",
   "execution_count": null,
   "metadata": {
    "colab": {
     "base_uri": "https://localhost:8080/"
    },
    "id": "foobar",
    "outputId": "foobar"
   },
   "outputs": [],
   "source": [
    "import numpy as np\n",
    "import pandas as pd\n",
    "\n",
    "\n",
    "# Implodes values in the selected DF columns to a list\n",
    "def df2list(source_df, col_filter: list) -> list:\n",
    "    \"\"\"Extracts cell values from a DataFrame and list them.\"\"\"\n",
    "    df_filtered = source_df.iloc[:, col_filter]  # Filter for columns.\n",
    "\n",
    "    array_filtered = np.array(df_filtered)  # Convert to numpy.ndarray\n",
    "    # DataFrame(2D) to list(1D)\n",
    "    row_size, col_size = array_filtered.shape  # (m, n) array to...\n",
    "    value_list_length = row_size * col_size  # a list of m*n length.\n",
    "    value_list = array_filtered.reshape(1, value_list_length).tolist()[0]\n",
    "\n",
    "    return value_list\n",
    "\n",
    "\n",
    "if __name__ == '__main__':\n",
    "    columns_to_use = [9, 10, 11, 12, 13, 14]\n",
    "    my_value_list = df2list(df_raw, columns_to_use)\n",
    "\n",
    "\n",
    "# Confirm\n",
    "print('\\t', '\\t'.join([i[:5] for i in df_raw.columns[columns_to_use]]))\n",
    "for i in range(len(my_value_list)):\n",
    "    print(f'{my_value_list[i]:>16}', end='')\n",
    "    if i % len(columns_to_use) == len(columns_to_use)-1:\n",
    "        print()\n"
   ]
  },
  {
   "cell_type": "markdown",
   "metadata": {
    "id": "foobar"
   },
   "source": [
    "# Extract first n digit(s): head_hunter()\n",
    "- Array 要素の数値から、指定番目の数字を取り出して dictionary にしておきます。\n",
    "- ただし、3 桁未満の数値を分析してもあまり意味がないので、それらは filter して落とすことにします。\n",
    "- 数字の取り出し方は、[Using Benford's Law to Detect Fraud](https://www.acfe.com/selfstudy.aspx?zid=2c92a0076a07e3be016a27279b1e2782)(ACFE) p.47 を参考にしていますが、最後の 'The last two digits test' は省略しました。\n",
    " - The first digit test\n",
    " - The second digit test\n",
    " - The first two digits test\n",
    " - The first three digits test\n",
    " - The last two digits test\n"
   ]
  },
  {
   "cell_type": "code",
   "execution_count": null,
   "metadata": {
    "colab": {
     "base_uri": "https://localhost:8080/"
    },
    "id": "foobar",
    "outputId": "foobar"
   },
   "outputs": [],
   "source": [
    "def head_hunter(input_array, cut_off=100):\n",
    "    \"\"\"Returns first n digit(s) from a list or 1D-np.array.\n",
    "    Values less than cut_off value will be discarded.\"\"\"\n",
    "    filtered_array = list(filter(lambda x: x >= cut_off, input_array))\n",
    "    print('Length of in/out array:', len(input_array), len(filtered_array))\n",
    "\n",
    "    heads_dict = {\n",
    "        'first_one_digit': [int(str(int(i))[0]) for i in filtered_array],\n",
    "        'second_md_digit': [int(str(int(i))[1]) for i in filtered_array],\n",
    "        'first_two_digits': [int(str(int(i))[:2]) for i in filtered_array],\n",
    "        'first_thr_digits': [int(str(int(i))[:3]) for i in filtered_array]\n",
    "        # 'last_two_digits': [int(str(int(i))[-2:]) for i in filtered_array]\n",
    "    }\n",
    "\n",
    "    return heads_dict  # Comprises four lists above.\n",
    "\n",
    "\n",
    "if __name__ == '__main__':\n",
    "    my_first_one_digit = head_hunter(my_value_list)['first_one_digit']\n",
    "    my_first_two_digits = head_hunter(my_value_list)['first_two_digits']\n",
    "    my_first_thr_digits = head_hunter(my_value_list)['first_thr_digits']\n",
    "    # Confirm\n",
    "    # print(my_first_one_digit)\n",
    "    # print(my_first_two_digits)\n",
    "    # print(my_first_thr_digits)\n"
   ]
  },
  {
   "cell_type": "markdown",
   "metadata": {
    "id": "foobar"
   },
   "source": [
    "# Presentation"
   ]
  },
  {
   "cell_type": "markdown",
   "metadata": {
    "id": "foobar"
   },
   "source": [
    "## Prepare Histogram Data: bfd_hist()\n",
    "- Array に含まれる値を Benford's law の分布（density=True）を階級（bins）にしたがって整理します。"
   ]
  },
  {
   "cell_type": "code",
   "execution_count": null,
   "metadata": {
    "colab": {
     "base_uri": "https://localhost:8080/"
    },
    "id": "foobar",
    "outputId": "foobar"
   },
   "outputs": [],
   "source": [
    "import numpy as np\n",
    "\n",
    "\n",
    "def bfd_hist(input_array) -> np.array:\n",
    "    \"\"\"Groups the data in the input_array into bins\"\"\"\n",
    "    # Check the integrity of the input_array.\n",
    "    digit_min = int(np.log10(min(input_array)) + 1)\n",
    "    digit_max = int(np.log10(max(input_array)) + 1)\n",
    "    if digit_min == digit_max:  # of digits must be the same.\n",
    "        digit = digit_max\n",
    "        print('OK: An array of',\n",
    "              str(digit) + '-digit numbers is passed to the function.')\n",
    "        # Define bin boundaries.\n",
    "        lower, upper = 10 ** (digit - 1), 10 ** digit\n",
    "        hist, bin_edges = np.histogram(input_array,\n",
    "                                       bins=range(lower, upper + 1),\n",
    "                                       density=True\n",
    "                                       )\n",
    "        bfd_hist, bfd_bins = hist, bin_edges[:-1]  # of bins = eds-1\n",
    "\n",
    "        return bfd_hist, bfd_bins\n",
    "\n",
    "    else:\n",
    "        print('Error: Illegal array')\n",
    "\n",
    "\n",
    "if __name__ == '__main__':\n",
    "    my_fone_hist, my_fone_bins = bfd_hist(my_first_one_digit)\n",
    "    my_ftwo_hist, my_ftwo_bins = bfd_hist(my_first_two_digits)\n",
    "    my_fthr_hist, my_fthr_bins = bfd_hist(my_first_thr_digits)\n"
   ]
  },
  {
   "cell_type": "markdown",
   "metadata": {
    "id": "foobar"
   },
   "source": [
    "## Prepare Summary Tables"
   ]
  },
  {
   "cell_type": "markdown",
   "metadata": {
    "id": "foobar"
   },
   "source": [
    "The first/first two/first three digits test のそれぞれについて、先頭 k 桁の値（d）、Benford's law で計算した確率（P(d)）、実測値、Deviation を column として pandas.DataFrame に整理しておきます。\n"
   ]
  },
  {
   "cell_type": "code",
   "execution_count": 7,
   "metadata": {
    "colab": {
     "base_uri": "https://localhost:8080/"
    },
    "id": "foobar",
    "outputId": "foobar"
   },
   "outputs": [
    {
     "name": "stdout",
     "output_type": "stream",
     "text": [
      "\n",
      "    First Digit  Benford's Set  Data Set X  Deviation\n",
      "0            1       0.301030    0.309591  -0.008561\n",
      "1            2       0.176091    0.167137   0.008954\n",
      "2            3       0.124939    0.131171  -0.006232\n",
      "3            4       0.096910    0.087447   0.009463\n",
      "4            5       0.079181    0.079337  -0.000156\n",
      "5            6       0.066947    0.062412   0.004535\n",
      "6            7       0.057992    0.059591  -0.001599\n",
      "7            8       0.051153    0.058181  -0.007028\n",
      "8            9       0.045757    0.045134   0.000623\n",
      "\n",
      "     First Two Digits  Benford's Set  Data Set X  Deviation\n",
      "0                 10       0.041393    0.041255   0.000137\n",
      "1                 11       0.037789    0.049365  -0.011577\n",
      "2                 12       0.034762    0.053597  -0.018835\n",
      "3                 13       0.032185    0.027856   0.004329\n",
      "4                 14       0.029963    0.017983   0.011980\n",
      "..               ...            ...         ...        ...\n",
      "85                95       0.004548    0.003173   0.001374\n",
      "86                96       0.004501    0.005289  -0.000789\n",
      "87                97       0.004454    0.004231   0.000223\n",
      "88                98       0.004409    0.003526   0.000883\n",
      "89                99       0.004365    0.005289  -0.000924\n",
      "\n",
      "[90 rows x 4 columns]\n",
      "\n",
      "      First Three Digits  Benford's Set  Data Set X  Deviation\n",
      "0                   100       0.004321    0.004584  -0.000263\n",
      "1                   101       0.004279    0.007052  -0.002773\n",
      "2                   102       0.004237    0.004584  -0.000347\n",
      "3                   103       0.004196    0.004937  -0.000740\n",
      "4                   104       0.004156    0.003173   0.000982\n",
      "..                  ...            ...         ...        ...\n",
      "895                 995       0.000436    0.000353   0.000084\n",
      "896                 996       0.000436    0.000000   0.000436\n",
      "897                 997       0.000435    0.000353   0.000083\n",
      "898                 998       0.000435    0.000000   0.000435\n",
      "899                 999       0.000435    0.001410  -0.000976\n",
      "\n",
      "[900 rows x 4 columns]\n"
     ]
    }
   ],
   "source": [
    "# The first digit test\n",
    "number_of_digits = 1\n",
    "table_dict = benford_table(number_of_digits)\n",
    "\n",
    "df_STLMT_FY2019_fone_test = pd.DataFrame(\n",
    "    {\n",
    "        'First Digit': table_dict.keys(),\n",
    "        'Benford\\'s Set': table_dict.values(),\n",
    "        'Data Set X': my_fone_hist,\n",
    "        'Deviation': np.array(list(table_dict.values())) - my_fone_hist\n",
    "    }\n",
    ")\n",
    "\n",
    "# The first two digits test\n",
    "number_of_digits = 2\n",
    "table_dict = benford_table(number_of_digits)\n",
    "\n",
    "df_STLMT_FY2019_ftwo_test = pd.DataFrame(\n",
    "    {\n",
    "        'First Two Digits': table_dict.keys(),\n",
    "        'Benford\\'s Set': table_dict.values(),\n",
    "        'Data Set X': my_ftwo_hist,\n",
    "        'Deviation': np.array(list(table_dict.values())) - my_ftwo_hist\n",
    "    }\n",
    ")\n",
    "\n",
    "number_of_digits = 3\n",
    "table_dict = benford_table(number_of_digits)\n",
    "\n",
    "df_STLMT_FY2019_fthr_test = pd.DataFrame(\n",
    "    {\n",
    "        'First Three Digits': table_dict.keys(),\n",
    "        'Benford\\'s Set': table_dict.values(),\n",
    "        'Data Set X': my_fthr_hist,\n",
    "        'Deviation': np.array(list(table_dict.values())) - my_fthr_hist\n",
    "    }\n",
    ")\n",
    "\n",
    "\n",
    "# Confirm\n",
    "print('\\n', df_STLMT_FY2019_fone_test)\n",
    "print('\\n', df_STLMT_FY2019_ftwo_test)\n",
    "print('\\n', df_STLMT_FY2019_fthr_test)"
   ]
  },
  {
   "cell_type": "markdown",
   "metadata": {
    "id": "foobar"
   },
   "source": [
    "# Draw the Charts"
   ]
  },
  {
   "cell_type": "code",
   "execution_count": 8,
   "metadata": {
    "colab": {
     "base_uri": "https://localhost:8080/",
     "height": 258
    },
    "id": "foobar",
    "outputId": "foobar"
   },
   "outputs": [
    {
     "data": {
      "text/plain": [
       "Text(0.5, 1.0, 'The First Three Digits Test ')"
      ]
     },
     "execution_count": 8,
     "metadata": {
      "tags": []
     },
     "output_type": "execute_result"
    },
    {
     "data": {
      "image/png": "[encoded data removed]",
      "text/plain": [
       "<Figure size 1152x216 with 3 Axes>"
      ]
     },
     "metadata": {
      "needs_background": "light",
      "tags": []
     },
     "output_type": "display_data"
    }
   ],
   "source": [
    "import matplotlib.pyplot as plt\n",
    "\n",
    "\n",
    "plt.figure(figsize=(16, 3))\n",
    "\n",
    "plt.subplot(131)\n",
    "fone = df_STLMT_FY2019_fone_test\n",
    "plt.plot(fone['First Digit'], fone[['Benford\\'s Set', 'Data Set X']])\n",
    "plt.xlabel('First Digit')\n",
    "plt.ylabel('Probability/Propotion')\n",
    "plt.title('The First Digit Test (')\n",
    "\n",
    "plt.subplot(132)\n",
    "ftwo = df_STLMT_FY2019_ftwo_test\n",
    "plt.plot(ftwo['First Two Digits'], ftwo[['Benford\\'s Set', 'Data Set X']])\n",
    "plt.xlabel('First Two Digits')\n",
    "plt.ylabel('Probability/Propotion')\n",
    "plt.title('The First Two Digits Test (')\n",
    "\n",
    "plt.subplot(133)\n",
    "fthr = df_STLMT_FY2019_fthr_test\n",
    "plt.plot(fthr['First Three Digits'], fthr[['Benford\\'s Set', 'Data Set X']])\n",
    "plt.xlabel('First Three Digits')\n",
    "plt.ylabel('Probability/Propotion')\n",
    "plt.title('The First Three Digits Test ')\n"
   ]
  }
 ],
 "metadata": {
  "colab": {
   "name": "Copy of benford_01.ipynb",
   "provenance": [],
   "toc_visible": true
  },
  "kernelspec": {
   "display_name": "Python 3",
   "language": "python",
   "name": "python3"
  },
  "language_info": {
   "codemirror_mode": {
    "name": "ipython",
    "version": 3
   },
   "file_extension": ".py",
   "mimetype": "text/x-python",
   "name": "python",
   "nbconvert_exporter": "python",
   "pygments_lexer": "ipython3",
   "version": "3.9.0"
  }
 },
 "nbformat": 4,
 "nbformat_minor": 1
}
