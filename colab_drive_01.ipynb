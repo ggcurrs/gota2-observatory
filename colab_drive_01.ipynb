{
 "cells": [
  {
   "cell_type": "markdown",
   "metadata": {
    "id": "foobar"
   },
   "source": [
    "# Preface\n",
    "\n",
    "この Notebook は、[Google Colab/Drive の連携: Magic Commands 篇](https://ggcs.io/2020/12/04/google-colab-drive-01/) 付録のPython scripts の手順詳細版です。\n",
    "\n",
    "- Website: ごたごた気流調査所 https://ggcs.io\n",
    "- GitHub : Gota Gota Current Survey https://github.com/ggcurrs/gota2-observatory\n",
    "- Version 1.0.0\n",
    "- Created: 2020-12-04\n",
    "- Updated: 0000-00-00\n"
   ]
  },
  {
   "cell_type": "markdown",
   "metadata": {
    "id": "foobar"
   },
   "source": [
    "# Mount Your Google Drive on Google Colaboratory"
   ]
  },
  {
   "cell_type": "markdown",
   "metadata": {
    "id": "foobar"
   },
   "source": [
    "Your Google Drive (the Drive) will be mounted under /content/drive\n",
    "\n",
    "*See also* [*External data: Local Files, Drive, Sheets, and Cloud Storage*](https://colab.research.google.com/notebooks/io.ipynb)"
   ]
  },
  {
   "cell_type": "code",
   "execution_count": null,
   "metadata": {
    "colab": {
     "base_uri": "https://localhost:8080/"
    },
    "id": "foobar",
    "outputId": "foobar"
   },
   "outputs": [
    {
     "name": "stdout",
     "output_type": "stream",
     "text": [
      "Mounted at /content/drive\n"
     ]
    }
   ],
   "source": [
    "from google.colab import drive\n",
    "drive.mount('/content/drive')"
   ]
  },
  {
   "cell_type": "markdown",
   "metadata": {
    "id": "foobar"
   },
   "source": [
    "# Using the Drive from Colab"
   ]
  },
  {
   "cell_type": "markdown",
   "metadata": {
    "id": "foobar"
   },
   "source": [
    "You can right-click the file/directory name in File Pane on the left and use *the Copy path* command from there."
   ]
  },
  {
   "cell_type": "code",
   "execution_count": null,
   "metadata": {
    "id": "foobar"
   },
   "outputs": [],
   "source": [
    "dir_path = '/content/drive/MyDrive/my_project/world_domination_project'"
   ]
  },
  {
   "cell_type": "markdown",
   "metadata": {
    "id": "foobar"
   },
   "source": [
    "## Write on/Read from the Drive from Python/Colab"
   ]
  },
  {
   "cell_type": "code",
   "execution_count": null,
   "metadata": {
    "id": "foobar"
   },
   "outputs": [],
   "source": [
    "msg_to_earthlians = 'Hello, World! All your base are belong to us!'\n",
    "\n",
    "file_path = dir_path + '/msg.txt'\n",
    "with open(file_path, 'w') as f:\n",
    "  f.write(msg_to_earthlians)"
   ]
  },
  {
   "cell_type": "code",
   "execution_count": null,
   "metadata": {
    "colab": {
     "base_uri": "https://localhost:8080/"
    },
    "id": "foobar",
    "outputId": "foobar"
   },
   "outputs": [
    {
     "name": "stdout",
     "output_type": "stream",
     "text": [
      "Hello, World! All your base are belong to us!\n"
     ]
    }
   ],
   "source": [
    "with open(file_path, 'r') as f:\n",
    "  msg_read = f.read()\n",
    "\n",
    "print(msg_read)"
   ]
  },
  {
   "cell_type": "markdown",
   "metadata": {
    "id": "foobar"
   },
   "source": [
    "## File/Directory Manupulation from Shell/Colab\n",
    "\n",
    "*See also* [*IPython Magic Commands*](https://colab.research.google.com/github/jakevdp/PythonDataScienceHandbook/blob/master/notebooks/01.03-Magic-Commands.ipynb#scrollTo=bFD7pjapu7St)"
   ]
  },
  {
   "cell_type": "code",
   "execution_count": null,
   "metadata": {
    "id": "foobar"
   },
   "outputs": [],
   "source": [
    "%less /content/drive/MyDrive/my_project/world_domination_project/msg.txt"
   ]
  },
  {
   "cell_type": "code",
   "execution_count": null,
   "metadata": {
    "id": "foobar"
   },
   "outputs": [],
   "source": [
    "%mkdir /content/drive/MyDrive/my_project/world_domination_project/sub_dir"
   ]
  },
  {
   "cell_type": "code",
   "execution_count": null,
   "metadata": {
    "id": "foobar"
   },
   "outputs": [],
   "source": [
    "%mv /content/drive/MyDrive/my_project/world_domination_project/msg.txt \\\n",
    "/content/drive/MyDrive/my_project/world_domination_project/sub_dir"
   ]
  },
  {
   "cell_type": "code",
   "execution_count": null,
   "metadata": {
    "id": "foobar"
   },
   "outputs": [],
   "source": [
    "%rm /content/drive/MyDrive/my_project/world_domination_project/sub_dir/msg.txt"
   ]
  },
  {
   "cell_type": "code",
   "execution_count": null,
   "metadata": {
    "id": "foobar"
   },
   "outputs": [],
   "source": [
    "%rm -r /content/drive/MyDrive/my_project/world_domination_project/sub_dir"
   ]
  }
 ],
 "metadata": {
  "colab": {
   "name": "colab_drive_01",
   "provenance": []
  },
  "kernelspec": {
   "display_name": "Python 3",
   "language": "python",
   "name": "python3"
  },
  "language_info": {
   "codemirror_mode": {
    "name": "ipython",
    "version": 3
   },
   "file_extension": ".py",
   "mimetype": "text/x-python",
   "name": "python",
   "nbconvert_exporter": "python",
   "pygments_lexer": "ipython3",
   "version": "3.9.0"
  }
 },
 "nbformat": 4,
 "nbformat_minor": 1
}
