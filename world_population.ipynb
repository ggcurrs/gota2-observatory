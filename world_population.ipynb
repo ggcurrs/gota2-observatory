{
 "cells": [
  {
   "cell_type": "markdown",
   "metadata": {},
   "source": [
    "- Website: ごたごた気流調査所 https://ggcs.io\n",
    "- GitHub : Gota Gota Current Survey https://github.com/ggcurrs\n",
    "- Version 1.0.0\n",
    "- Date : 2020-09-03\n",
    "- Updated: None"
   ]
  },
  {
   "cell_type": "markdown",
   "metadata": {
    "colab_type": "text",
    "id": "foobar"
   },
   "source": [
    "# Setup"
   ]
  },
  {
   "cell_type": "code",
   "execution_count": null,
   "metadata": {
    "colab": {},
    "colab_type": "code",
    "id": "foobar"
   },
   "outputs": [],
   "source": [
    "import os\n",
    "import requests\n",
    "import numpy as np\n",
    "import pandas as pd\n",
    "import matplotlib.pyplot as plt\n",
    "\n",
    "PROJECT_ROOT_PATH = '.'\n",
    "# World Population Prospects 2019 / Age composition\n",
    "SOURCE_PATH = 'https://population.un.org/wpp/Download/Files/1_Indicators%20(Standard)/EXCEL_FILES/1_Population/WPP2019_POP_F07_1_POPULATION_BY_AGE_BOTH_SEXES.xlsx'\n",
    "\n",
    "FILE_PATH = os.path.join(PROJECT_ROOT_PATH, os.path.basename(SOURCE_PATH))"
   ]
  },
  {
   "cell_type": "markdown",
   "metadata": {
    "colab_type": "text",
    "id": "foobar"
   },
   "source": [
    "# Download the Source file"
   ]
  },
  {
   "cell_type": "code",
   "execution_count": null,
   "metadata": {
    "colab": {},
    "colab_type": "code",
    "id": "foobar"
   },
   "outputs": [
    {
     "name": "stdout",
     "output_type": "stream",
     "text": [
      "Download: IN PROGRESS\n",
      "Download: DONE!\n"
     ]
    }
   ],
   "source": [
    "# Download World Population Prospects 2019 / Age composition\n",
    "print('Download: IN PROGRESS')\n",
    "if not os.path.isfile(FILE_PATH):\n",
    "  with open(FILE_PATH, 'wb') as f:\n",
    "    f.write(requests.get(SOURCE_PATH).content)\n",
    "\n",
    "print('Download: DONE!')"
   ]
  },
  {
   "cell_type": "markdown",
   "metadata": {
    "colab_type": "text",
    "id": "foobar"
   },
   "source": [
    "# Estimates"
   ]
  },
  {
   "cell_type": "markdown",
   "metadata": {
    "colab_type": "text",
    "id": "foobar"
   },
   "source": [
    "## Load the Estimate data"
   ]
  },
  {
   "cell_type": "code",
   "execution_count": null,
   "metadata": {
    "colab": {
     "base_uri": "https://localhost:8080/",
     "height": 575
    },
    "colab_type": "code",
    "id": "foobar",
    "outputId": "foobar"
   },
   "outputs": [
    {
     "data": {
      "text/html": [
       "<div>\n",
       "<style scoped>\n",
       "    .dataframe tbody tr th:only-of-type {\n",
       "        vertical-align: middle;\n",
       "    }\n",
       "\n",
       "    .dataframe tbody tr th {\n",
       "        vertical-align: top;\n",
       "    }\n",
       "\n",
       "    .dataframe thead th {\n",
       "        text-align: right;\n",
       "    }\n",
       "</style>\n",
       "<table border=\"1\" class=\"dataframe\">\n",
       "  <thead>\n",
       "    <tr style=\"text-align: right;\">\n",
       "      <th></th>\n",
       "      <th>Index</th>\n",
       "      <th>Variant</th>\n",
       "      <th>Region, subregion, country or area *</th>\n",
       "      <th>Notes</th>\n",
       "      <th>Country code</th>\n",
       "      <th>Type</th>\n",
       "      <th>Parent code</th>\n",
       "      <th>Reference date (as of 1 July)</th>\n",
       "      <th>0-4</th>\n",
       "      <th>5-9</th>\n",
       "      <th>...</th>\n",
       "      <th>55-59</th>\n",
       "      <th>60-64</th>\n",
       "      <th>65-69</th>\n",
       "      <th>70-74</th>\n",
       "      <th>75-79</th>\n",
       "      <th>80-84</th>\n",
       "      <th>85-89</th>\n",
       "      <th>90-94</th>\n",
       "      <th>95-99</th>\n",
       "      <th>100+</th>\n",
       "    </tr>\n",
       "  </thead>\n",
       "  <tbody>\n",
       "    <tr>\n",
       "      <th>0</th>\n",
       "      <td>1</td>\n",
       "      <td>Estimates</td>\n",
       "      <td>WORLD</td>\n",
       "      <td>NaN</td>\n",
       "      <td>900</td>\n",
       "      <td>World</td>\n",
       "      <td>0</td>\n",
       "      <td>1950</td>\n",
       "      <td>338497</td>\n",
       "      <td>270083</td>\n",
       "      <td>...</td>\n",
       "      <td>88673.6</td>\n",
       "      <td>73448.2</td>\n",
       "      <td>55142.9</td>\n",
       "      <td>37383.4</td>\n",
       "      <td>21901.8</td>\n",
       "      <td>9627.05</td>\n",
       "      <td>3474.93</td>\n",
       "      <td>947.494</td>\n",
       "      <td>197.844</td>\n",
       "      <td>33.899</td>\n",
       "    </tr>\n",
       "    <tr>\n",
       "      <th>1</th>\n",
       "      <td>2</td>\n",
       "      <td>Estimates</td>\n",
       "      <td>WORLD</td>\n",
       "      <td>NaN</td>\n",
       "      <td>900</td>\n",
       "      <td>World</td>\n",
       "      <td>0</td>\n",
       "      <td>1955</td>\n",
       "      <td>407177</td>\n",
       "      <td>316014</td>\n",
       "      <td>...</td>\n",
       "      <td>97657.8</td>\n",
       "      <td>77073</td>\n",
       "      <td>59538.3</td>\n",
       "      <td>40492.8</td>\n",
       "      <td>23753.7</td>\n",
       "      <td>11309.5</td>\n",
       "      <td>3627.3</td>\n",
       "      <td>916.972</td>\n",
       "      <td>165.442</td>\n",
       "      <td>24.153</td>\n",
       "    </tr>\n",
       "    <tr>\n",
       "      <th>2</th>\n",
       "      <td>3</td>\n",
       "      <td>Estimates</td>\n",
       "      <td>WORLD</td>\n",
       "      <td>NaN</td>\n",
       "      <td>900</td>\n",
       "      <td>World</td>\n",
       "      <td>0</td>\n",
       "      <td>1960</td>\n",
       "      <td>434008</td>\n",
       "      <td>383756</td>\n",
       "      <td>...</td>\n",
       "      <td>109466</td>\n",
       "      <td>85360.4</td>\n",
       "      <td>63028.7</td>\n",
       "      <td>44212.1</td>\n",
       "      <td>26016.5</td>\n",
       "      <td>12358.9</td>\n",
       "      <td>4386.82</td>\n",
       "      <td>966.933</td>\n",
       "      <td>163.618</td>\n",
       "      <td>20.487</td>\n",
       "    </tr>\n",
       "    <tr>\n",
       "      <th>3</th>\n",
       "      <td>4</td>\n",
       "      <td>Estimates</td>\n",
       "      <td>WORLD</td>\n",
       "      <td>NaN</td>\n",
       "      <td>900</td>\n",
       "      <td>World</td>\n",
       "      <td>0</td>\n",
       "      <td>1965</td>\n",
       "      <td>479304</td>\n",
       "      <td>411063</td>\n",
       "      <td>...</td>\n",
       "      <td>119924</td>\n",
       "      <td>96280.8</td>\n",
       "      <td>70710.1</td>\n",
       "      <td>47734.2</td>\n",
       "      <td>29554.7</td>\n",
       "      <td>14364.5</td>\n",
       "      <td>5106.56</td>\n",
       "      <td>1259.12</td>\n",
       "      <td>178.743</td>\n",
       "      <td>20.392</td>\n",
       "    </tr>\n",
       "    <tr>\n",
       "      <th>4</th>\n",
       "      <td>5</td>\n",
       "      <td>Estimates</td>\n",
       "      <td>WORLD</td>\n",
       "      <td>NaN</td>\n",
       "      <td>900</td>\n",
       "      <td>World</td>\n",
       "      <td>0</td>\n",
       "      <td>1970</td>\n",
       "      <td>524080</td>\n",
       "      <td>459404</td>\n",
       "      <td>...</td>\n",
       "      <td>130546</td>\n",
       "      <td>107840</td>\n",
       "      <td>82238.5</td>\n",
       "      <td>55586.5</td>\n",
       "      <td>33115.9</td>\n",
       "      <td>17198.6</td>\n",
       "      <td>6269.95</td>\n",
       "      <td>1536.38</td>\n",
       "      <td>245.6</td>\n",
       "      <td>23.137</td>\n",
       "    </tr>\n",
       "  </tbody>\n",
       "</table>\n",
       "<p>5 rows × 29 columns</p>\n",
       "</div>"
      ],
      "text/plain": [
       "   Index    Variant Region, subregion, country or area * Notes  Country code  \\\n",
       "0      1  Estimates                                WORLD   NaN           900   \n",
       "1      2  Estimates                                WORLD   NaN           900   \n",
       "2      3  Estimates                                WORLD   NaN           900   \n",
       "3      4  Estimates                                WORLD   NaN           900   \n",
       "4      5  Estimates                                WORLD   NaN           900   \n",
       "\n",
       "    Type  Parent code  Reference date (as of 1 July)     0-4     5-9  ...  \\\n",
       "0  World            0                           1950  338497  270083  ...   \n",
       "1  World            0                           1955  407177  316014  ...   \n",
       "2  World            0                           1960  434008  383756  ...   \n",
       "3  World            0                           1965  479304  411063  ...   \n",
       "4  World            0                           1970  524080  459404  ...   \n",
       "\n",
       "     55-59    60-64    65-69    70-74    75-79    80-84    85-89    90-94  \\\n",
       "0  88673.6  73448.2  55142.9  37383.4  21901.8  9627.05  3474.93  947.494   \n",
       "1  97657.8    77073  59538.3  40492.8  23753.7  11309.5   3627.3  916.972   \n",
       "2   109466  85360.4  63028.7  44212.1  26016.5  12358.9  4386.82  966.933   \n",
       "3   119924  96280.8  70710.1  47734.2  29554.7  14364.5  5106.56  1259.12   \n",
       "4   130546   107840  82238.5  55586.5  33115.9  17198.6  6269.95  1536.38   \n",
       "\n",
       "     95-99    100+  \n",
       "0  197.844  33.899  \n",
       "1  165.442  24.153  \n",
       "2  163.618  20.487  \n",
       "3  178.743  20.392  \n",
       "4    245.6  23.137  \n",
       "\n",
       "[5 rows x 29 columns]"
      ]
     },
     "execution_count": null,
     "metadata": {},
     "output_type": "execute_result"
    }
   ],
   "source": [
    "df_estimates = pd.read_excel(FILE_PATH, sheet_name='ESTIMATES', skiprows=16)\n",
    "df_estimates.head()"
   ]
  },
  {
   "cell_type": "code",
   "execution_count": null,
   "metadata": {
    "colab": {
     "base_uri": "https://localhost:8080/",
     "height": 1000
    },
    "colab_type": "code",
    "id": "foobar",
    "outputId": "foobar"
   },
   "outputs": [],
   "source": [
    "# Available countries and exact column names.\n",
    "country_names = df_estimates['Region, subregion, country or area *'].unique()\n",
    "country_names"
   ]
  },
  {
   "cell_type": "markdown",
   "metadata": {
    "colab_type": "text",
    "id": "foobar"
   },
   "source": [
    "## India"
   ]
  },
  {
   "cell_type": "code",
   "execution_count": null,
   "metadata": {
    "colab": {
     "base_uri": "https://localhost:8080/",
     "height": 514
    },
    "colab_type": "code",
    "id": "foobar",
    "outputId": "foobar"
   },
   "outputs": [],
   "source": [
    "# Filter for India. iloc[:, 2] -> 'Region, subregion, country or area *'\n",
    "df_ind_estimates = df_estimates[df_estimates.iloc[:, 2] == 'India']\n",
    "\n",
    "# To avoid the 'SettingWithCopyWarning':\n",
    "df_ind_estimates_total = df_ind_estimates.copy()\n",
    "# Sum of all age groups.\n",
    "df_ind_estimates_total['India(thoudands)'] = df_estimates.iloc[:, 8:29].sum(axis=1).copy()\n",
    "\n",
    "# Pick up 'Reference date (as of 1 July)' and 'India' columns \n",
    "df_ind_estimates_total = df_ind_estimates_total.iloc[:, [7, 29]]\n",
    "\n",
    "# Rename a too-long-column-name to 'Year'\n",
    "df_ind_estimates_total.rename(\n",
    "    columns={'Reference date (as of 1 July)':'Year'}, inplace=True)\n",
    "\n",
    "df_ind_estimates_total"
   ]
  },
  {
   "cell_type": "markdown",
   "metadata": {
    "colab_type": "text",
    "id": "foobar"
   },
   "source": [
    "## China"
   ]
  },
  {
   "cell_type": "code",
   "execution_count": null,
   "metadata": {
    "colab": {
     "base_uri": "https://localhost:8080/",
     "height": 514
    },
    "colab_type": "code",
    "id": "foobar",
    "outputId": "foobar"
   },
   "outputs": [],
   "source": [
    "df_chn_estimates = df_estimates[df_estimates.iloc[:, 2] == 'China']\n",
    "df_chn_estimates_total = df_chn_estimates.copy()\n",
    "df_chn_estimates_total['China(thoudands)'] = df_estimates.iloc[:, 8:29].sum(axis=1).copy()\n",
    "df_chn_estimates_total = df_chn_estimates_total.iloc[:, [7, 29]]\n",
    "df_chn_estimates_total.rename(columns={'Reference date (as of 1 July)':'Year'}, inplace=True)\n",
    "\n",
    "df_chn_estimates_total"
   ]
  },
  {
   "cell_type": "markdown",
   "metadata": {
    "colab_type": "text",
    "id": "foobar"
   },
   "source": [
    "## Both"
   ]
  },
  {
   "cell_type": "code",
   "execution_count": null,
   "metadata": {
    "colab": {
     "base_uri": "https://localhost:8080/",
     "height": 204
    },
    "colab_type": "code",
    "id": "foobar",
    "outputId": "foobar"
   },
   "outputs": [],
   "source": [
    "# SELECT * FROM df_ind_estimates_total (Left DataFrame)\n",
    "# JOIN df_chn_estimates_total (Right DataFrame)\n",
    "# WHERE df_ind_estimates_total.year = df_chn_estimates_total.year (on='Year')\n",
    "df_ind_chn_estimates =\\\n",
    "   pd.merge(df_ind_estimates_total, df_chn_estimates_total, on='Year')\n",
    "\n",
    "# Remove duplicate data (2020 ESTIMATE/PROJECTION)\n",
    "df_ind_chn_estimates.drop(index=14, inplace=True)\n",
    "df_ind_chn_estimates.reset_index(drop=True, inplace=True)\n",
    "\n",
    "df_ind_chn_estimates.head()"
   ]
  },
  {
   "cell_type": "markdown",
   "metadata": {
    "colab_type": "text",
    "id": "foobar"
   },
   "source": [
    "# Projection"
   ]
  },
  {
   "cell_type": "markdown",
   "metadata": {
    "colab_type": "text",
    "id": "foobar"
   },
   "source": [
    "## Load the Projection data"
   ]
  },
  {
   "cell_type": "code",
   "execution_count": null,
   "metadata": {
    "colab": {
     "base_uri": "https://localhost:8080/",
     "height": 360
    },
    "colab_type": "code",
    "id": "foobar",
    "outputId": "foobar"
   },
   "outputs": [],
   "source": [
    "df_med_variant =\\\n",
    " pd.read_excel(FILE_PATH, sheet_name='MEDIUM VARIANT', skiprows=16)\n",
    " \n",
    "df_med_variant.head()"
   ]
  },
  {
   "cell_type": "markdown",
   "metadata": {
    "colab_type": "text",
    "id": "foobar"
   },
   "source": [
    "## India"
   ]
  },
  {
   "cell_type": "code",
   "execution_count": null,
   "metadata": {
    "colab": {
     "base_uri": "https://localhost:8080/",
     "height": 204
    },
    "colab_type": "code",
    "id": "foobar",
    "outputId": "foobar"
   },
   "outputs": [],
   "source": [
    "df_ind_projection = df_med_variant[df_med_variant.iloc[:, 2] == 'India']\n",
    "df_ind_projection_total = df_ind_projection.copy()\n",
    "df_ind_projection_total['India(thoudands)'] = df_ind_projection.iloc[:, 8:29].sum(axis=1)\n",
    "df_ind_projection_total = df_ind_projection_total.iloc[:, [7, 29]]\n",
    "df_ind_projection_total.rename(columns={'Reference date (as of 1 July)':'Year'}, inplace=True)\n",
    "\n",
    "df_ind_projection_total.head()"
   ]
  },
  {
   "cell_type": "markdown",
   "metadata": {
    "colab_type": "text",
    "id": "foobar"
   },
   "source": [
    "## China"
   ]
  },
  {
   "cell_type": "code",
   "execution_count": null,
   "metadata": {
    "colab": {
     "base_uri": "https://localhost:8080/",
     "height": 204
    },
    "colab_type": "code",
    "id": "foobar",
    "outputId": "foobar"
   },
   "outputs": [],
   "source": [
    "df_chn_projection = df_med_variant[df_med_variant.iloc[:, 2] == 'China']\n",
    "df_chn_projection_total = df_chn_projection.copy()\n",
    "df_chn_projection_total['China(thoudands)'] = df_chn_projection.iloc[:, 8:29].sum(axis=1)\n",
    "df_chn_projection_total = df_chn_projection_total.iloc[:, [7, 29]]\n",
    "df_chn_projection_total.rename(columns={'Reference date (as of 1 July)':'Year'}, inplace=True)\n",
    "\n",
    "df_chn_projection_total.head()"
   ]
  },
  {
   "cell_type": "markdown",
   "metadata": {
    "colab_type": "text",
    "id": "foobar"
   },
   "source": [
    "## Both"
   ]
  },
  {
   "cell_type": "code",
   "execution_count": null,
   "metadata": {
    "colab": {
     "base_uri": "https://localhost:8080/",
     "height": 204
    },
    "colab_type": "code",
    "id": "foobar",
    "outputId": "foobar"
   },
   "outputs": [],
   "source": [
    "df_ind_chn_projection =\\\n",
    " pd.merge(df_ind_projection_total, df_chn_projection_total, on='Year')\n",
    "\n",
    "df_ind_chn_projection.head()"
   ]
  },
  {
   "cell_type": "markdown",
   "metadata": {
    "colab_type": "text",
    "id": "foobar"
   },
   "source": [
    "# ALL"
   ]
  },
  {
   "cell_type": "code",
   "execution_count": null,
   "metadata": {
    "colab": {
     "base_uri": "https://localhost:8080/",
     "height": 1000
    },
    "colab_type": "code",
    "id": "foobar",
    "outputId": "foobar"
   },
   "outputs": [
    {
     "data": {
      "text/html": [
       "<div>\n",
       "<style scoped>\n",
       "    .dataframe tbody tr th:only-of-type {\n",
       "        vertical-align: middle;\n",
       "    }\n",
       "\n",
       "    .dataframe tbody tr th {\n",
       "        vertical-align: top;\n",
       "    }\n",
       "\n",
       "    .dataframe thead th {\n",
       "        text-align: right;\n",
       "    }\n",
       "</style>\n",
       "<table border=\"1\" class=\"dataframe\">\n",
       "  <thead>\n",
       "    <tr style=\"text-align: right;\">\n",
       "      <th></th>\n",
       "      <th>Year</th>\n",
       "      <th>India</th>\n",
       "      <th>China</th>\n",
       "    </tr>\n",
       "  </thead>\n",
       "  <tbody>\n",
       "    <tr>\n",
       "      <th>0</th>\n",
       "      <td>1950</td>\n",
       "      <td>376325200</td>\n",
       "      <td>554419269</td>\n",
       "    </tr>\n",
       "    <tr>\n",
       "      <th>1</th>\n",
       "      <td>1955</td>\n",
       "      <td>409880605</td>\n",
       "      <td>612241552</td>\n",
       "    </tr>\n",
       "    <tr>\n",
       "      <th>2</th>\n",
       "      <td>1960</td>\n",
       "      <td>450547675</td>\n",
       "      <td>660408054</td>\n",
       "    </tr>\n",
       "    <tr>\n",
       "      <th>3</th>\n",
       "      <td>1965</td>\n",
       "      <td>499123328</td>\n",
       "      <td>724218970</td>\n",
       "    </tr>\n",
       "    <tr>\n",
       "      <th>4</th>\n",
       "      <td>1970</td>\n",
       "      <td>555189796</td>\n",
       "      <td>827601385</td>\n",
       "    </tr>\n",
       "  </tbody>\n",
       "</table>\n",
       "</div>"
      ],
      "text/plain": [
       "   Year      India      China\n",
       "0  1950  376325200  554419269\n",
       "1  1955  409880605  612241552\n",
       "2  1960  450547675  660408054\n",
       "3  1965  499123328  724218970\n",
       "4  1970  555189796  827601385"
      ]
     },
     "execution_count": null,
     "metadata": {},
     "output_type": "execute_result"
    }
   ],
   "source": [
    "# Append the projection after the estimates.\n",
    "df_ind_chn_population =\\\n",
    "   df_ind_chn_estimates.append(df_ind_chn_projection, ignore_index=True)\n",
    "\n",
    "# Remove the annotation \"thousands\"\n",
    "df_ind_chn_population[['India(thoudands)', 'China(thoudands)']] =\\\n",
    "   df_ind_chn_population[['India(thoudands)', 'China(thoudands)']] * 1000\n",
    "\n",
    "df_ind_chn_population.rename(\n",
    "    columns={'India(thoudands)':'India', 'China(thoudands)':'China'}, \n",
    "              inplace=True)\n",
    "\n",
    "# Change the data type to integer.\n",
    "df_ind_chn_population[['India', 'China']] =\\\n",
    "    df_ind_chn_population[['India', 'China']].astype('int')\n",
    "\n",
    "df_ind_chn_population.head()"
   ]
  },
  {
   "cell_type": "code",
   "execution_count": null,
   "metadata": {
    "colab": {
     "base_uri": "https://localhost:8080/",
     "height": 276
    },
    "colab_type": "code",
    "id": "foobar",
    "outputId": "foobar"
   },
   "outputs": [
    {
     "data": {
      "image/png": "[encoded data removed]",
      "text/plain": [
       "<Figure size 432x288 with 1 Axes>"
      ]
     },
     "metadata": {
      "needs_background": "light"
     },
     "output_type": "display_data"
    }
   ],
   "source": [
    "# Data\n",
    "x = df_ind_chn_population.Year\n",
    "y_ind = df_ind_chn_population.India\n",
    "y_chn = df_ind_chn_population.China\n",
    "\n",
    "# Plot\n",
    "plt.plot(x, y_ind, label='India')\n",
    "plt.plot(x, y_chn, label='China')\n",
    "plt.legend(loc='lower right')\n",
    "\n",
    "plt.show()"
   ]
  },
  {
   "cell_type": "markdown",
   "metadata": {
    "colab_type": "text",
    "id": "foobar"
   },
   "source": [
    "# Sava as a CSV file"
   ]
  },
  {
   "cell_type": "code",
   "execution_count": null,
   "metadata": {
    "colab": {
     "base_uri": "https://localhost:8080/",
     "height": 34
    },
    "colab_type": "code",
    "id": "foobar",
    "outputId": "foobar"
   },
   "outputs": [],
   "source": [
    "df_ind_chn_population.to_csv('ind_chn_population.csv', index=False)\n",
    "print('DONE!')"
   ]
  }
 ],
 "metadata": {
  "colab": {
   "collapsed_sections": [],
   "name": "world_population",
   "provenance": [],
   "toc_visible": true
  },
  "kernelspec": {
   "display_name": "Python 3",
   "language": "python",
   "name": "python3"
  },
  "language_info": {
   "codemirror_mode": {
    "name": "ipython",
    "version": 3
   },
   "file_extension": ".py",
   "mimetype": "text/x-python",
   "name": "python",
   "nbconvert_exporter": "python",
   "pygments_lexer": "ipython3",
   "version": "3.7.7"
  }
 },
 "nbformat": 4,
 "nbformat_minor": 1
}
