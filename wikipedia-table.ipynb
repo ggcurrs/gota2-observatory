{
 "cells": [
  {
   "cell_type": "markdown",
   "metadata": {},
   "source": [
    "# Wikipediaから一覧表を取得\n",
    "- 実は Excel から直接URL開いて表をimportすれば一瞬で済む話だけれど…。"
   ]
  },
  {
   "cell_type": "code",
   "execution_count": null,
   "metadata": {},
   "outputs": [],
   "source": [
    "__author__ = \"Admin GGCS\"\n",
    "__copyright__ = \"Copyright 2019\"\n",
    "__license__ = \"MIT\"\n",
    "__version__ = \"1.0.0\"\n",
    "__maintainer__ = \"Admin GGCS\"\n",
    "__website__ = \"ggcs.io\"\n",
    "\n",
    "#Setup\n",
    "import requests\n",
    "import bs4\n",
    "#import os\n",
    "#import time\n",
    "#import webbrowser\n",
    "#import shutil\n",
    "#import pandas as pd\n",
    "\n",
    "#DOWNLOAD_DIR = os.path.join(\".\", \"DownloadedHtml\")\n",
    "#if not os.path.isdir(DOWNLOAD_DIR):\n",
    "#    os.makedirs(DOWNLOAD_DIR)"
   ]
  },
  {
   "cell_type": "markdown",
   "metadata": {},
   "source": [
    "## 目的のURLを入力"
   ]
  },
  {
   "cell_type": "code",
   "execution_count": null,
   "metadata": {},
   "outputs": [],
   "source": [
    "#Input a target URL\n",
    "try:\n",
    "    TARGET_URL = input('Target URL? >> ')\n",
    "except Exception as exc_msg:\n",
    "    print('Error!: {}'.format(exc_msg))\n",
    "\n",
    "#目的のURLを聞かれるので、https://ja.wikipedia.org/wiki/foo みたいな感じで入力。"
   ]
  },
  {
   "cell_type": "markdown",
   "metadata": {},
   "source": [
    "## HTMLの様子を把握、どうやって抽出するか見当を付ける"
   ]
  },
  {
   "cell_type": "code",
   "execution_count": null,
   "metadata": {},
   "outputs": [],
   "source": [
    "#Get the page data\n",
    "r = requests.get(TARGET_URL)\n",
    "#r.encoding = 'foo' #Garble killer. もし文字化けしたらfooを適当に変えてみる。\n",
    "soup = bs4.BeautifulSoup(r.text, \"lxml\")\n",
    "print(soup.prettify())"
   ]
  },
  {
   "cell_type": "markdown",
   "metadata": {},
   "source": [
    "## td 要素抜き出し"
   ]
  },
  {
   "cell_type": "code",
   "execution_count": null,
   "metadata": {},
   "outputs": [],
   "source": [
    "tdList = soup.select('td')\n",
    "\n",
    "#十中八九、途中でセルのマージ等があるので一気通貫では処理できない。Blockに分けて試行錯誤しながら適当に設定。\n",
    "#これらの数字はあくまで一例。\n",
    "firstBlockStarts = 2\n",
    "secondBlockStarts = 371\n",
    "thirdBlockStarts = 480\n",
    "blockEnds = 1301\n",
    "\n",
    "for i in range(firstBlockStarts, secondBlockStarts, 10): #10要素ずつスキップ\n",
    "    print(tdList[i].text, tdList[i+1].text, tdList[i+2].text) #頭から i, i+1, 1+2 の 3列だけ取得\n",
    "for i in range(secondBlockStarts, thirdBlockStarts, 10):\n",
    "    print(tdList[i].text, tdList[i+1].text, tdList[i+2].text)\n",
    "for i in range(thirdBlockStarts, blockEnds, 10):\n",
    "    print(tdList[i].text, tdList[i+1].text, tdList[i+2].text)"
   ]
  },
  {
   "cell_type": "markdown",
   "metadata": {},
   "source": [
    "## データをファイルに書き出したい場合\n",
    "- 上の Cell を実行して Start / End を設定してあることが前提"
   ]
  },
  {
   "cell_type": "markdown",
   "metadata": {},
   "source": [
    "### CSVに書き出したい場合\n",
    "- UTF-8, BOM無しなので、Excel で開く場合は開くときにExcelの encoding を手動で UTF-8 に設定してください。"
   ]
  },
  {
   "cell_type": "code",
   "execution_count": null,
   "metadata": {},
   "outputs": [],
   "source": [
    "import os\n",
    "\n",
    "#Current working directory 直下にあらかじめ出力ファイル用のフォルダを作っておく\n",
    "OUTPUT_DIR = os.path.join(\".\", \"outputs\")\n",
    "if not os.path.isdir(OUTPUT_DIR):\n",
    "    os.makedirs(OUTPUT_DIR)\n",
    "\n",
    "#抽出結果を string 形式で用意（コンマ区切り、改行でレコードを分ける）\n",
    "f = 'Column A, Column B, Column C, \\n'\n",
    "for i in range(firstBlockStarts, secondBlockStarts, 10): \n",
    "    f += ','.join((tdList[i].text, tdList[i+1].text, tdList[i+2].text, '\\n'))\n",
    "for i in range(secondBlockStarts, thirdBlockStarts, 10):\n",
    "    f += ','.join((tdList[i].text, tdList[i+1].text, tdList[i+2].text, '\\n'))\n",
    "for i in range(thirdBlockStarts, blockEnds, 10):\n",
    "    f += ','.join((tdList[i].text, tdList[i+1].text, tdList[i+2].text, '\\n'))\n",
    "\n",
    "#output.csv を作って str(f) を書き込み、保存\n",
    "with open(os.path.join(OUTPUT_DIR, 'output.csv'),'w') as outputWrapper:\n",
    "    outputWrapper.write(str(f))\n",
    "    \n",
    "#アウトプットフォルダを開く\n",
    "os.system('open ' + OUTPUT_DIR)\n",
    "print('Done. You can find output.csv in ', OUTPUT_DIR)   "
   ]
  },
  {
   "cell_type": "markdown",
   "metadata": {},
   "source": [
    "### Excelに書き出したい場合"
   ]
  },
  {
   "cell_type": "code",
   "execution_count": null,
   "metadata": {},
   "outputs": [],
   "source": [
    "import os\n",
    "import pandas as pd\n",
    "\n",
    "#Current working directory 直下にあらかじめ出力ファイル用のフォルダを作っておく\n",
    "OUTPUT_DIR = os.path.join(\".\", \"outputs\")\n",
    "if not os.path.isdir(OUTPUT_DIR):\n",
    "    os.makedirs(OUTPUT_DIR)\n",
    "\n",
    "f = []\n",
    "for i in range(firstBlockStarts, secondBlockStarts, 10): \n",
    "    f += [[tdList[i].text, tdList[i+1].text, tdList[i+2].text]]\n",
    "for i in range(secondBlockStarts, thirdBlockStarts, 10):\n",
    "    f += [[tdList[i].text, tdList[i+1].text, tdList[i+2].text]]\n",
    "for i in range(thirdBlockStarts, blockEnds, 10):\n",
    "    f += [[tdList[i].text, tdList[i+1].text, tdList[i+2].text]]\n",
    "\n",
    "#Pandas Data Frame を経由して Excel に保存\n",
    "df = pd.DataFrame(f, columns=['Column A', 'Column B', 'Column C'])\n",
    "df.to_excel(os.path.join(OUTPUT_DIR, 'output.xlsx'), index=False)\n",
    "\n",
    "#アウトプットフォルダを開く\n",
    "os.system('open ' + OUTPUT_DIR)\n",
    "print('Done. You can find output.xlsx in ', OUTPUT_DIR)   "
   ]
  },
  {
   "cell_type": "code",
   "execution_count": null,
   "metadata": {},
   "outputs": [],
   "source": []
  }
 ],
 "metadata": {
  "kernelspec": {
   "display_name": "Python 3",
   "language": "python",
   "name": "python3"
  },
  "language_info": {
   "codemirror_mode": {
    "name": "ipython",
    "version": 3
   },
   "file_extension": ".py",
   "mimetype": "text/x-python",
   "name": "python",
   "nbconvert_exporter": "python",
   "pygments_lexer": "ipython3",
   "version": "3.7.3"
  }
 },
 "nbformat": 4,
 "nbformat_minor": 2
}
