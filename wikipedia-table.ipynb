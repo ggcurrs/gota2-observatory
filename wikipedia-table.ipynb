{
 "cells": [
  {
   "cell_type": "markdown",
   "metadata": {},
   "source": [
    "# Wikipediaから一覧表を取得"
   ]
  },
  {
   "cell_type": "markdown",
   "metadata": {},
   "source": [
    "## Setup"
   ]
  },
  {
   "cell_type": "code",
   "execution_count": 1,
   "metadata": {},
   "outputs": [],
   "source": [
    "__author__ = \"Admin GGCS\"\n",
    "__copyright__ = \"Copyright 2019\"\n",
    "__license__ = \"MIT\"\n",
    "__version__ = \"2.0.0\"\n",
    "__maintainer__ = \"Admin GGCS\"\n",
    "__website__ = \"ggcs.io\"\n",
    "\n",
    "import requests\n",
    "import pandas as pd\n",
    "import os"
   ]
  },
  {
   "cell_type": "markdown",
   "metadata": {},
   "source": [
    "## Main Part"
   ]
  },
  {
   "cell_type": "markdown",
   "metadata": {},
   "source": [
    "### 対象URL入力、requests.models.Responseに変換"
   ]
  },
  {
   "cell_type": "code",
   "execution_count": 2,
   "metadata": {},
   "outputs": [
    {
     "name": "stdout",
     "output_type": "stream",
     "text": [
      "URL? (ex. https://www.example.com) >> https://ja.wikipedia.org/wiki/生物の分類\n"
     ]
    }
   ],
   "source": [
    "#pd.read_html()は多くの場合は直接ページ（myUrl）を読み込めるけれど、\n",
    "#相手のencodingの関係でエラーになる場合もあるので念のためrequests.models.Responseに変換しておく。\n",
    "try:\n",
    "    myUrl = input('URL? (ex. https://www.example.com) >> ')\n",
    "    response = requests.get(myUrl)\n",
    "except Exception as exc_msg:\n",
    "        print(\"Error!{}\".format(exc_msg))\n",
    "\n",
    "#入力例: https://ja.wikipedia.org/wiki/生物の分類"
   ]
  },
  {
   "cell_type": "markdown",
   "metadata": {},
   "source": [
    "### 🐼 I love Pandas!"
   ]
  },
  {
   "cell_type": "code",
   "execution_count": 3,
   "metadata": {},
   "outputs": [],
   "source": [
    "#カッコ内はresponse.textでも良いが、response.contentの方が良さげ。\n",
    "#っていうか、pd.read_html()なんて凄いのがあるのを一昨日の夜に知った。早く教えてよ😭\n",
    "myList = pd.read_html(response.content)"
   ]
  },
  {
   "cell_type": "code",
   "execution_count": 4,
   "metadata": {},
   "outputs": [
    {
     "name": "stdout",
     "output_type": "stream",
     "text": [
      "myList   :  <class 'list'> \n",
      "myList[0]:  <class 'pandas.core.frame.DataFrame'>\n"
     ]
    }
   ],
   "source": [
    "#myListのtypeはlistなのに、切り出すとData Frame になる不思議。\n",
    "#こんな感じ。\n",
    "print('myList   : ', type(myList), '\\nmyList[0]: ', type(myList[0]))"
   ]
  },
  {
   "cell_type": "markdown",
   "metadata": {},
   "source": [
    "### これで良いか、printして様子を見てみる。"
   ]
  },
  {
   "cell_type": "code",
   "execution_count": 5,
   "metadata": {
    "scrolled": false
   },
   "outputs": [
    {
     "name": "stdout",
     "output_type": "stream",
     "text": [
      "[Table 000]\n",
      "     0                                                  1\n",
      "0 NaN  ウィキペディアにおける生物の分類の扱いについては、Wikipedia:ウィキプロジェクト 生...\n",
      "[Table 001]\n",
      "                0               1                 2              3  \\\n",
      "0  リンネ（1735年）2界説  ヘッケル（1894年）3界説  ホイタッカー（1969年）5界説  ウーズ（1977年）6界説   \n",
      "1            NaN           原生生物界              モネラ界          真正細菌界   \n",
      "2            NaN           原生生物界              モネラ界           古細菌界   \n",
      "3            NaN           原生生物界             原生生物界          原生生物界   \n",
      "4            植物界             植物界                菌界             菌界   \n",
      "5            植物界             植物界               植物界            植物界   \n",
      "6            動物界             動物界               動物界            動物界   \n",
      "\n",
      "                     4             5  \n",
      "0  ウーズ（1990年）3ドメイン説[6]        具体例[7]  \n",
      "1                   細菌  大腸菌、放線菌、藍色細菌  \n",
      "2            古細菌（アーキア）  メタン生成菌、好熱好酸菌  \n",
      "3                 真核生物  藻類、原生動物、変形菌類  \n",
      "4                 真核生物   キノコ、カビ、地衣植物  \n",
      "5                 真核生物  コケ類、シダ類、種子植物  \n",
      "6                 真核生物    無脊椎動物、脊椎動物  \n",
      "[Table 002]\n",
      "    Unnamed: 0                     クラスター                スーパーグループ  \\\n",
      "0     真 核 生 物           アモルフェア Amorphea     オピストコンタOpisthokonta   \n",
      "1     真 核 生 物           アモルフェア Amorphea     オピストコンタOpisthokonta   \n",
      "2     真 核 生 物           アモルフェア Amorphea         アメーボゾアAmoebozoa   \n",
      "3     真 核 生 物          エクスカバータ Excavata        エクスカバータ Excavata   \n",
      "4     真 核 生 物          エクスカバータ Excavata        エクスカバータ Excavata   \n",
      "5     真 核 生 物          エクスカバータ Excavata        エクスカバータ Excavata   \n",
      "6     真 核 生 物  ディアフォレティケスDiaphoretickes  アーケプラスチダArchaeplastida   \n",
      "7     真 核 生 物  ディアフォレティケスDiaphoretickes  アーケプラスチダArchaeplastida   \n",
      "8     真 核 生 物  ディアフォレティケスDiaphoretickes  アーケプラスチダArchaeplastida   \n",
      "9     真 核 生 物  ディアフォレティケスDiaphoretickes                 SAR Sar   \n",
      "10    真 核 生 物  ディアフォレティケスDiaphoretickes                 SAR Sar   \n",
      "11    真 核 生 物  ディアフォレティケスDiaphoretickes                 SAR Sar   \n",
      "\n",
      "                スーパーグループ.1                                           下位分類、具体例  \n",
      "0      オピストコンタOpisthokonta                           ホロゾア Holozoa（動物、襟鞭毛虫 など）  \n",
      "1      オピストコンタOpisthokonta                                 Nucletmycea（菌類 など）  \n",
      "2          アメーボゾアAmoebozoa  ツブリネア Tubulinea、古アメーバ類 Archamoebae、原生粘菌（プロトステリ...  \n",
      "3         エクスカバータ Excavata         メタモナス類 Metamonada（フォルニカータ、パラバサリア、プレアクソスチラ）  \n",
      "4         エクスカバータ Excavata                   Discoba（ユーグレノゾア、ヘテロロボサ、ジャコバ類 など）  \n",
      "5         エクスカバータ Excavata                                マラウィモナス Malawimonas  \n",
      "6   アーケプラスチダArchaeplastida                   緑色植物 Chloroplastida（緑藻植物、陸上植物など）  \n",
      "7   アーケプラスチダArchaeplastida                                    紅藻 Rhodophyceae  \n",
      "8   アーケプラスチダArchaeplastida                                    灰色藻 Glaucophyta  \n",
      "9   ストラメノパイル Stramenopiles  不等毛植物（褐藻、珪藻 、ラフィド藻、黄金色藻、黄緑藻など）、 オパリナ類、ビコソエカ類、ラ...  \n",
      "10       アルベオラータ Alveolata                               渦鞭毛藻、アピコンプレクサ、繊毛虫 など  \n",
      "11           リザリア Rhizaria                               クロララクニオン藻、有孔虫、放散虫 など  \n",
      "[Table 003]\n",
      " Empty DataFrame\n",
      "Columns: [生物 ドメイン 界（かい） 門（もん） 綱（こう） 目（もく） 科（か） 属（ぞく） 種（しゅ）]\n",
      "Index: []\n",
      "[Table 004]\n",
      "        0                 1                2              3  \\\n",
      "0     和名                英名            ラテン語名           例：ヒト   \n",
      "1  ドメイン:           domain:           regio:           真核生物   \n",
      "2     界:          kingdom:          regnum:            動物界   \n",
      "3     門:  phylum/division:  phylum/divisio:  脊索動物門（脊椎動物亜門）   \n",
      "4     綱:            class:         classis:            哺乳綱   \n",
      "5     目:            order:            ordo:            サル目   \n",
      "6     科:           family:         familia:            ヒト科   \n",
      "7     属:            genus:           genus:        ヒト属Homo   \n",
      "8     種:          species:         species:     H. sapiens   \n",
      "\n",
      "                    4                 5                   6                  7  \n",
      "0            例：ローズマリー           例：エノキタケ               例：大腸菌         例：A. ペルニクス  \n",
      "1                真核生物              真核生物                  細菌                古細菌  \n",
      "2                 植物界                菌界                  なし       プロテオ古細菌界[10]  \n",
      "3               被子植物門              担子菌門          プロテオバクテリア門            クレン古細菌門  \n",
      "4              双子葉植物綱               菌蕈綱         γプロテオバクテリア綱          テルモプロテウス綱  \n",
      "5                 シソ目             ハラタケ目               腸内細菌目         デスルフロコックス目  \n",
      "6                 シソ科             キシメジ科               腸内細菌科         デスルフロコックス科  \n",
      "7  ローズマリー属Rosemarinus  エノキタケ属Flammulina  エスケリキア属Escherichia  アエロピュルム属Aeropyrum  \n",
      "8      R. officinalis      F. velutipes             E. coli          A. pernix  \n",
      "[Table 005]\n",
      "          0                      1         2          3           4          5  \\\n",
      "0      NaN              分類単位Taxon  植物Plants     藻Algae      菌Fungi  動物Animals   \n",
      "1        門        Division/Phylum    -phyta     -phyta     -mycota        NaN   \n",
      "2       亜門  Subdivision/Subphylum  -phytina   -phytina   -mycotina        NaN   \n",
      "3        綱                  Class   -opsida   -phyceae    -mycetes        NaN   \n",
      "4       亜綱               Subclass     -idae  -phycidae  -mycetidae        NaN   \n",
      "5        目                  Order     -ales      -ales       -ales        NaN   \n",
      "6       亜目               Suborder    -ineae     -ineae      -ineae        NaN   \n",
      "7       上科            Superfamily     -acea      -acea       -acea     -oidea   \n",
      "8        科                 Family    -aceae     -aceae      -aceae      -idae   \n",
      "9       亜科              Subfamily   -oideae    -oideae     -oideae      -inae   \n",
      "10    族（連）                  Tribe      -eae       -eae        -eae       -ini   \n",
      "11  亜族（亜連）               Subtribe     -inae      -inae       -inae       -ina   \n",
      "\n",
      "                          6  \n",
      "0   細菌、古細菌Bacteria, Archaea  \n",
      "1                       NaN  \n",
      "2                       NaN  \n",
      "3                     (-ia)  \n",
      "4                   (-idae)  \n",
      "5                     -ales  \n",
      "6                    -ineae  \n",
      "7                       NaN  \n",
      "8                    -aceae  \n",
      "9       -oideae（現在使用されていない）  \n",
      "10                 -eae（同上）  \n",
      "11                -inae（同上）  \n",
      "[Table 006]\n",
      "     0                          1\n",
      "0 NaN  この節の加筆が望まれています。 （2018年8月）\n"
     ]
    }
   ],
   "source": [
    "#下のセルに表示されているのは、'https://ja.wikipedia.org/wiki/生物の分類'をスクレイピングした時の例\n",
    "for i,j in enumerate(myList):\n",
    "    print('[Table ' + str(i).zfill(3) + ']\\n', j)"
   ]
  },
  {
   "cell_type": "markdown",
   "metadata": {},
   "source": [
    "### これで良いのだ。CSVファイルに書き出す。おしまい。"
   ]
  },
  {
   "cell_type": "code",
   "execution_count": 7,
   "metadata": {},
   "outputs": [
    {
     "name": "stdout",
     "output_type": "stream",
     "text": [
      "7　csv files will be generated. OK? ([y]/n) >>  y\n",
      "Done!\n"
     ]
    }
   ],
   "source": [
    "try:\n",
    "    goornogo =  input(str(len(myList))+'　csv files will be generated. OK? ([y]/n) >>  ').lower()\n",
    "    if goornogo != 'n':\n",
    "        if os.path.isfile('output_001.csv'):\n",
    "            print('Oops! output_001.csv already exixts!\\n*** ABORTED ***')\n",
    "            os.system('open .')\n",
    "        else:\n",
    "            for i,j in enumerate(myList):\n",
    "                j.to_csv('output_'+str(i).zfill(3)+'.csv')\n",
    "            print('Done!')\n",
    "            os.system('open .')\n",
    "    else: print('Bye!')\n",
    "except Exception as exc_msg:\n",
    "        print(\"Error!{}\".format(exc_msg))"
   ]
  },
  {
   "cell_type": "markdown",
   "metadata": {},
   "source": [
    "### え？Excelがいいの？"
   ]
  },
  {
   "cell_type": "code",
   "execution_count": 8,
   "metadata": {},
   "outputs": [
    {
     "name": "stdout",
     "output_type": "stream",
     "text": [
      "7　xlsx files will be generated. OK? ([y]/n) >>  y\n",
      "Done!\n"
     ]
    }
   ],
   "source": [
    "try:\n",
    "    goornogo =  input(str(len(myList))+'　xlsx files will be generated. OK? ([y]/n) >>  ').lower()\n",
    "    if goornogo != 'n':\n",
    "        if os.path.isfile('output_001.xlsx'):\n",
    "            print('Oops! output_001.xlsx already exixts!\\n*** ABORTED ***')\n",
    "            os.system('open .')\n",
    "        else:\n",
    "            for i,j in enumerate(myList):\n",
    "                j.to_excel('output_'+str(i).zfill(3)+'.xlsx')\n",
    "            print('Done!')\n",
    "            os.system('open .')\n",
    "    else: print('Bye!')\n",
    "except Exception as exc_msg:\n",
    "        print(\"Error!{}\".format(exc_msg))"
   ]
  }
 ],
 "metadata": {
  "kernelspec": {
   "display_name": "Python 3",
   "language": "python",
   "name": "python3"
  },
  "language_info": {
   "codemirror_mode": {
    "name": "ipython",
    "version": 3
   },
   "file_extension": ".py",
   "mimetype": "text/x-python",
   "name": "python",
   "nbconvert_exporter": "python",
   "pygments_lexer": "ipython3",
   "version": "3.7.5"
  }
 },
 "nbformat": 4,
 "nbformat_minor": 2
}
