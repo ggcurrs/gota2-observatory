{
  "nbformat": 4,
  "nbformat_minor": 0,
  "metadata": {
    "colab": {
      "name": "pdf_to_csv_sort.ipynb",
      "provenance": [],
      "collapsed_sections": [],
      "toc_visible": true
    },
    "kernelspec": {
      "display_name": "Python 3",
      "name": "python3"
    }
  },
  "cells": [
    {
      "cell_type": "markdown",
      "metadata": {
        "colab_type": "text",
        "id": "foobar"
      },
      "source": [
        "# **この Notebook は、[Google Colab: PDF to CSV 変換器を Colab に設置 \\[第三話 乱麻篇\\] – Categorical data は頼れる味方](https://ggcs.io/2020/08/19/google-colab-pdf-export-03/) の手順詳細版です。**\n",
        "\n",
        "- Website: ごたごた気流調査所  https://ggcs.io\n",
        "- GitHub : Gota Gota Current Survey  https://github.com/ggcurrs\n",
        "- Version 1.0.0\n",
        "- Date   : 2020-08-18\n",
        "- Updated: None"
      ]
    },
    {
      "cell_type": "code",
      "metadata": {
        "id": "yj7Kpsvp2S7w",
        "colab_type": "code",
        "colab": {}
      },
      "source": [
        "# Script 0\n",
        "\n",
        "'''以下はすべて Google Colab / Drive が前提となっているので、\n",
        "local machine で実験する時には適当に path などを変えてください。'''\n",
        "\n",
        "# Google Drive のマウント。\n",
        "from google.colab import drive\n",
        "drive.mount('/content/drive')\n",
        "\n",
        "# Modules の import.\n",
        "import os\n",
        "import sys\n",
        "# PATH を通す（Python に modules の場所を教える）\n",
        "# local machine で実験するときは不要。\n",
        "MODULE_PATH = '/content/drive/My Drive/Colab Notebooks/my-modules'\n",
        "sys.path.append(MODULE_PATH)\n",
        "import tabula  # Module の場所を教えたので、import.\n",
        "import pandas as pd  # 念のため明示的に import しておく。\n",
        "\n",
        "# ディレクトリ構造を定義する。\n",
        "# local machine で実験するときは、\n",
        "# PROJECT_ROOT_PATH = '.' などと適当に変えて使います。\n",
        "PROJECT_ROOT_PATH = '/content/drive/My Drive/pdf_project'\n",
        "DATA_PATH   = os.path.join(PROJECT_ROOT_PATH, 'data')\n",
        "\n",
        "print('準備完了 🍻')"
      ],
      "execution_count": null,
      "outputs": []
    },
    {
      "cell_type": "markdown",
      "metadata": {
        "id": "8NG8bTsBoKhr",
        "colab_type": "text"
      },
      "source": [
        "# 今回の作業の流れ\n",
        "- 前回（[死闘篇](https://ggcs.io/2020/08/11/google-colab-pdf-export-02/)）までの作業で、PDF の粗々の CSV 化まで漕ぎ着けたので、オリジナル PDF の目次に従って、レコード（行 = rows）の並び順をオリジナルに戻すことにします。\n",
        "- 目標は、州名略記（state_code）> 州ごとの連番（sc_num）の順にソートされた表を作ることです。\n",
        "- ただし、準備作業は次の順序で行います（Script 番号は Web 版とは異なります）。\n",
        "0. Setup (Script 0)\n",
        "1. 作業中のデータの読み込み (Script 1)\n",
        "2. 州ごとの連番列 (sc_num column) の準備 (Scripts 2-5)\n",
        "3. 州略記列 (state_code colunn) の準備 (Scripts 6-9)\n",
        "4. state_code > sc_num の順に並べ替え（Script 10）\n"
      ]
    },
    {
      "cell_type": "markdown",
      "metadata": {
        "id": "5N9lnV39A5wU",
        "colab_type": "text"
      },
      "source": [
        "# 手順\n",
        "1. 作業中のデータの読み込み\n",
        "2. 州ごとの連番列 (sc_num column) の準備\n",
        "3. 州略記列 (state_code colunn) の準備\n",
        "4. state_code > sc_num の順に並べ替え（sort）"
      ]
    },
    {
      "cell_type": "markdown",
      "metadata": {
        "id": "BO-gVMzSuQh_",
        "colab_type": "text"
      },
      "source": [
        "# 1. 作業中のデータの読み込み\n",
        "- 前回の作業では、tabula でうまく parse できなかった部分をざっくりと修正し、作業結果を　df_all_intermed.csv として保存したので、これを読み込みます（Script 1）。"
      ]
    },
    {
      "cell_type": "code",
      "metadata": {
        "id": "cURYglzvvTwV",
        "colab_type": "code",
        "colab": {}
      },
      "source": [
        "# Script 1\n",
        "# Load the previously prepared intermediate working file.\n",
        "df_all_intermed = pd.read_csv(os.path.join(DATA_PATH, 'df_all_intermed.csv'))\n",
        "df_all_intermed"
      ],
      "execution_count": null,
      "outputs": []
    },
    {
      "cell_type": "markdown",
      "metadata": {
        "id": "f9f02NNHK-Qz",
        "colab_type": "text"
      },
      "source": [
        "# 州ごとの連番列 (sc_num column) の準備"
      ]
    },
    {
      "cell_type": "markdown",
      "metadata": {
        "id": "lAUVBBt4OqB9",
        "colab_type": "text"
      },
      "source": [
        "## string > float > integer への cast"
      ]
    },
    {
      "cell_type": "markdown",
      "metadata": {
        "id": "iBeJ8aNOzgrV",
        "colab_type": "text"
      },
      "source": [
        "- CSV ファイルから読み込んだので、sc_num column を含め、data type は全部 string になっています。これだと数値 sort のときに困る（たとえば、string の list ['10', '2', '1'] を sort すると ['1', '10', '2'] になる）ので、***astype()*** method を使って sc_num column は int 型に cast します。\n",
        "- ところが、'1.0' みたいな string が紛れ込んでいるため、いきなり int にしようとすれば、「1.0 は 整数じゃないぞ💢」（ValueError: invalid literal for int() with base 10: '1.0'）みたいなこと言われるので、*string -> float -> int* と段階を踏んで cast することにします。\n",
        "- ところが！\n",
        "- sc_num column を float に cast しようとしたら、'ValueError: could not convert string to float: 'Naga8r5' と言われてしまいました。どうやら、数字と解釈できない文字列 'Naga8r5' が混入していた模様（Script 2）。"
      ]
    },
    {
      "cell_type": "code",
      "metadata": {
        "id": "FE-yMhkVzf4t",
        "colab_type": "code",
        "colab": {
          "base_uri": "https://localhost:8080/",
          "height": 324
        },
        "outputId": "ec0bd555-86d6-49d0-9b30-2a0c0ed11cba"
      },
      "source": [
        "# Script 2\n",
        "df_all_intermed.sc_num.astype(float)"
      ],
      "execution_count": 23,
      "outputs": [
        {
          "output_type": "error",
          "ename": "ValueError",
          "evalue": "ignored",
          "traceback": [
            "\u001b[0;31m---------------------------------------------------------------------------\u001b[0m",
            "\u001b[0;31mValueError\u001b[0m                                Traceback (most recent call last)",
            "\u001b[0;32m<ipython-input-23-478072ff4b07>\u001b[0m in \u001b[0;36m<module>\u001b[0;34m()\u001b[0m\n\u001b[1;32m      1\u001b[0m \u001b[0;31m# Script 2\u001b[0m\u001b[0;34m\u001b[0m\u001b[0;34m\u001b[0m\u001b[0;34m\u001b[0m\u001b[0m\n\u001b[0;32m----> 2\u001b[0;31m \u001b[0mdf_all_intermed\u001b[0m\u001b[0;34m.\u001b[0m\u001b[0msc_num\u001b[0m\u001b[0;34m.\u001b[0m\u001b[0mastype\u001b[0m\u001b[0;34m(\u001b[0m\u001b[0mfloat\u001b[0m\u001b[0;34m)\u001b[0m\u001b[0;34m\u001b[0m\u001b[0;34m\u001b[0m\u001b[0m\n\u001b[0m",
            "\u001b[0;32m/usr/local/lib/python3.6/dist-packages/pandas/core/generic.py\u001b[0m in \u001b[0;36mastype\u001b[0;34m(self, dtype, copy, errors)\u001b[0m\n\u001b[1;32m   5696\u001b[0m         \u001b[0;32melse\u001b[0m\u001b[0;34m:\u001b[0m\u001b[0;34m\u001b[0m\u001b[0;34m\u001b[0m\u001b[0m\n\u001b[1;32m   5697\u001b[0m             \u001b[0;31m# else, only a single dtype is given\u001b[0m\u001b[0;34m\u001b[0m\u001b[0;34m\u001b[0m\u001b[0;34m\u001b[0m\u001b[0m\n\u001b[0;32m-> 5698\u001b[0;31m             \u001b[0mnew_data\u001b[0m \u001b[0;34m=\u001b[0m \u001b[0mself\u001b[0m\u001b[0;34m.\u001b[0m\u001b[0m_data\u001b[0m\u001b[0;34m.\u001b[0m\u001b[0mastype\u001b[0m\u001b[0;34m(\u001b[0m\u001b[0mdtype\u001b[0m\u001b[0;34m=\u001b[0m\u001b[0mdtype\u001b[0m\u001b[0;34m,\u001b[0m \u001b[0mcopy\u001b[0m\u001b[0;34m=\u001b[0m\u001b[0mcopy\u001b[0m\u001b[0;34m,\u001b[0m \u001b[0merrors\u001b[0m\u001b[0;34m=\u001b[0m\u001b[0merrors\u001b[0m\u001b[0;34m)\u001b[0m\u001b[0;34m\u001b[0m\u001b[0;34m\u001b[0m\u001b[0m\n\u001b[0m\u001b[1;32m   5699\u001b[0m             \u001b[0;32mreturn\u001b[0m \u001b[0mself\u001b[0m\u001b[0;34m.\u001b[0m\u001b[0m_constructor\u001b[0m\u001b[0;34m(\u001b[0m\u001b[0mnew_data\u001b[0m\u001b[0;34m)\u001b[0m\u001b[0;34m.\u001b[0m\u001b[0m__finalize__\u001b[0m\u001b[0;34m(\u001b[0m\u001b[0mself\u001b[0m\u001b[0;34m)\u001b[0m\u001b[0;34m\u001b[0m\u001b[0;34m\u001b[0m\u001b[0m\n\u001b[1;32m   5700\u001b[0m \u001b[0;34m\u001b[0m\u001b[0m\n",
            "\u001b[0;32m/usr/local/lib/python3.6/dist-packages/pandas/core/internals/managers.py\u001b[0m in \u001b[0;36mastype\u001b[0;34m(self, dtype, copy, errors)\u001b[0m\n\u001b[1;32m    580\u001b[0m \u001b[0;34m\u001b[0m\u001b[0m\n\u001b[1;32m    581\u001b[0m     \u001b[0;32mdef\u001b[0m \u001b[0mastype\u001b[0m\u001b[0;34m(\u001b[0m\u001b[0mself\u001b[0m\u001b[0;34m,\u001b[0m \u001b[0mdtype\u001b[0m\u001b[0;34m,\u001b[0m \u001b[0mcopy\u001b[0m\u001b[0;34m:\u001b[0m \u001b[0mbool\u001b[0m \u001b[0;34m=\u001b[0m \u001b[0;32mFalse\u001b[0m\u001b[0;34m,\u001b[0m \u001b[0merrors\u001b[0m\u001b[0;34m:\u001b[0m \u001b[0mstr\u001b[0m \u001b[0;34m=\u001b[0m \u001b[0;34m\"raise\"\u001b[0m\u001b[0;34m)\u001b[0m\u001b[0;34m:\u001b[0m\u001b[0;34m\u001b[0m\u001b[0;34m\u001b[0m\u001b[0m\n\u001b[0;32m--> 582\u001b[0;31m         \u001b[0;32mreturn\u001b[0m \u001b[0mself\u001b[0m\u001b[0;34m.\u001b[0m\u001b[0mapply\u001b[0m\u001b[0;34m(\u001b[0m\u001b[0;34m\"astype\"\u001b[0m\u001b[0;34m,\u001b[0m \u001b[0mdtype\u001b[0m\u001b[0;34m=\u001b[0m\u001b[0mdtype\u001b[0m\u001b[0;34m,\u001b[0m \u001b[0mcopy\u001b[0m\u001b[0;34m=\u001b[0m\u001b[0mcopy\u001b[0m\u001b[0;34m,\u001b[0m \u001b[0merrors\u001b[0m\u001b[0;34m=\u001b[0m\u001b[0merrors\u001b[0m\u001b[0;34m)\u001b[0m\u001b[0;34m\u001b[0m\u001b[0;34m\u001b[0m\u001b[0m\n\u001b[0m\u001b[1;32m    583\u001b[0m \u001b[0;34m\u001b[0m\u001b[0m\n\u001b[1;32m    584\u001b[0m     \u001b[0;32mdef\u001b[0m \u001b[0mconvert\u001b[0m\u001b[0;34m(\u001b[0m\u001b[0mself\u001b[0m\u001b[0;34m,\u001b[0m \u001b[0;34m**\u001b[0m\u001b[0mkwargs\u001b[0m\u001b[0;34m)\u001b[0m\u001b[0;34m:\u001b[0m\u001b[0;34m\u001b[0m\u001b[0;34m\u001b[0m\u001b[0m\n",
            "\u001b[0;32m/usr/local/lib/python3.6/dist-packages/pandas/core/internals/managers.py\u001b[0m in \u001b[0;36mapply\u001b[0;34m(self, f, filter, **kwargs)\u001b[0m\n\u001b[1;32m    440\u001b[0m                 \u001b[0mapplied\u001b[0m \u001b[0;34m=\u001b[0m \u001b[0mb\u001b[0m\u001b[0;34m.\u001b[0m\u001b[0mapply\u001b[0m\u001b[0;34m(\u001b[0m\u001b[0mf\u001b[0m\u001b[0;34m,\u001b[0m \u001b[0;34m**\u001b[0m\u001b[0mkwargs\u001b[0m\u001b[0;34m)\u001b[0m\u001b[0;34m\u001b[0m\u001b[0;34m\u001b[0m\u001b[0m\n\u001b[1;32m    441\u001b[0m             \u001b[0;32melse\u001b[0m\u001b[0;34m:\u001b[0m\u001b[0;34m\u001b[0m\u001b[0;34m\u001b[0m\u001b[0m\n\u001b[0;32m--> 442\u001b[0;31m                 \u001b[0mapplied\u001b[0m \u001b[0;34m=\u001b[0m \u001b[0mgetattr\u001b[0m\u001b[0;34m(\u001b[0m\u001b[0mb\u001b[0m\u001b[0;34m,\u001b[0m \u001b[0mf\u001b[0m\u001b[0;34m)\u001b[0m\u001b[0;34m(\u001b[0m\u001b[0;34m**\u001b[0m\u001b[0mkwargs\u001b[0m\u001b[0;34m)\u001b[0m\u001b[0;34m\u001b[0m\u001b[0;34m\u001b[0m\u001b[0m\n\u001b[0m\u001b[1;32m    443\u001b[0m             \u001b[0mresult_blocks\u001b[0m \u001b[0;34m=\u001b[0m \u001b[0m_extend_blocks\u001b[0m\u001b[0;34m(\u001b[0m\u001b[0mapplied\u001b[0m\u001b[0;34m,\u001b[0m \u001b[0mresult_blocks\u001b[0m\u001b[0;34m)\u001b[0m\u001b[0;34m\u001b[0m\u001b[0;34m\u001b[0m\u001b[0m\n\u001b[1;32m    444\u001b[0m \u001b[0;34m\u001b[0m\u001b[0m\n",
            "\u001b[0;32m/usr/local/lib/python3.6/dist-packages/pandas/core/internals/blocks.py\u001b[0m in \u001b[0;36mastype\u001b[0;34m(self, dtype, copy, errors)\u001b[0m\n\u001b[1;32m    623\u001b[0m             \u001b[0mvals1d\u001b[0m \u001b[0;34m=\u001b[0m \u001b[0mvalues\u001b[0m\u001b[0;34m.\u001b[0m\u001b[0mravel\u001b[0m\u001b[0;34m(\u001b[0m\u001b[0;34m)\u001b[0m\u001b[0;34m\u001b[0m\u001b[0;34m\u001b[0m\u001b[0m\n\u001b[1;32m    624\u001b[0m             \u001b[0;32mtry\u001b[0m\u001b[0;34m:\u001b[0m\u001b[0;34m\u001b[0m\u001b[0;34m\u001b[0m\u001b[0m\n\u001b[0;32m--> 625\u001b[0;31m                 \u001b[0mvalues\u001b[0m \u001b[0;34m=\u001b[0m \u001b[0mastype_nansafe\u001b[0m\u001b[0;34m(\u001b[0m\u001b[0mvals1d\u001b[0m\u001b[0;34m,\u001b[0m \u001b[0mdtype\u001b[0m\u001b[0;34m,\u001b[0m \u001b[0mcopy\u001b[0m\u001b[0;34m=\u001b[0m\u001b[0;32mTrue\u001b[0m\u001b[0;34m)\u001b[0m\u001b[0;34m\u001b[0m\u001b[0;34m\u001b[0m\u001b[0m\n\u001b[0m\u001b[1;32m    626\u001b[0m             \u001b[0;32mexcept\u001b[0m \u001b[0;34m(\u001b[0m\u001b[0mValueError\u001b[0m\u001b[0;34m,\u001b[0m \u001b[0mTypeError\u001b[0m\u001b[0;34m)\u001b[0m\u001b[0;34m:\u001b[0m\u001b[0;34m\u001b[0m\u001b[0;34m\u001b[0m\u001b[0m\n\u001b[1;32m    627\u001b[0m                 \u001b[0;31m# e.g. astype_nansafe can fail on object-dtype of strings\u001b[0m\u001b[0;34m\u001b[0m\u001b[0;34m\u001b[0m\u001b[0;34m\u001b[0m\u001b[0m\n",
            "\u001b[0;32m/usr/local/lib/python3.6/dist-packages/pandas/core/dtypes/cast.py\u001b[0m in \u001b[0;36mastype_nansafe\u001b[0;34m(arr, dtype, copy, skipna)\u001b[0m\n\u001b[1;32m    895\u001b[0m     \u001b[0;32mif\u001b[0m \u001b[0mcopy\u001b[0m \u001b[0;32mor\u001b[0m \u001b[0mis_object_dtype\u001b[0m\u001b[0;34m(\u001b[0m\u001b[0marr\u001b[0m\u001b[0;34m)\u001b[0m \u001b[0;32mor\u001b[0m \u001b[0mis_object_dtype\u001b[0m\u001b[0;34m(\u001b[0m\u001b[0mdtype\u001b[0m\u001b[0;34m)\u001b[0m\u001b[0;34m:\u001b[0m\u001b[0;34m\u001b[0m\u001b[0;34m\u001b[0m\u001b[0m\n\u001b[1;32m    896\u001b[0m         \u001b[0;31m# Explicit copy, or required since NumPy can't view from / to object.\u001b[0m\u001b[0;34m\u001b[0m\u001b[0;34m\u001b[0m\u001b[0;34m\u001b[0m\u001b[0m\n\u001b[0;32m--> 897\u001b[0;31m         \u001b[0;32mreturn\u001b[0m \u001b[0marr\u001b[0m\u001b[0;34m.\u001b[0m\u001b[0mastype\u001b[0m\u001b[0;34m(\u001b[0m\u001b[0mdtype\u001b[0m\u001b[0;34m,\u001b[0m \u001b[0mcopy\u001b[0m\u001b[0;34m=\u001b[0m\u001b[0;32mTrue\u001b[0m\u001b[0;34m)\u001b[0m\u001b[0;34m\u001b[0m\u001b[0;34m\u001b[0m\u001b[0m\n\u001b[0m\u001b[1;32m    898\u001b[0m \u001b[0;34m\u001b[0m\u001b[0m\n\u001b[1;32m    899\u001b[0m     \u001b[0;32mreturn\u001b[0m \u001b[0marr\u001b[0m\u001b[0;34m.\u001b[0m\u001b[0mview\u001b[0m\u001b[0;34m(\u001b[0m\u001b[0mdtype\u001b[0m\u001b[0;34m)\u001b[0m\u001b[0;34m\u001b[0m\u001b[0;34m\u001b[0m\u001b[0m\n",
            "\u001b[0;31mValueError\u001b[0m: could not convert string to float: 'Naga8r5'"
          ]
        }
      ]
    },
    {
      "cell_type": "markdown",
      "metadata": {
        "id": "SX6Y31BU3_lz",
        "colab_type": "text"
      },
      "source": [
        "- そこで、 'Naga8r5' を探してその row の様子を見ることにします（Script 3）。確かに、数字ではなくて 'Naga8r5' が入っていますね。\n",
        "- 早速オリジナル PDF で 'Naga8r5' を検索すると、1 箇所検索に引っかかりました（オリジナル PDF p.37. 'PB|Shahid Bhagat Sing|85'）\n",
        "- ところが、そこには '85' と書いてあるだけで、'Naga8r5' とは書いてありません？？\n",
        "- そこで、その PDF 上の '85' をマウス右クリックで copy して text editor に past すると…\n",
        "- 'Naga8r5' と隠していた正体を顕しました 😲\n",
        "- どうやら本来の 85 と、どこからか混入した Nagar が絶妙にブレンドされていた模様。\n",
        "- 原因がわかったので、その場で当該 cell の値を 85 に直して（Script 4）、\n",
        "- 次に進みます（Script 5）"
      ]
    },
    {
      "cell_type": "markdown",
      "metadata": {
        "id": "kUvLKBQ7zAdl",
        "colab_type": "text"
      },
      "source": [
        "***Script 2 でいったん実行が止まるので\b、Runtime menu から Run after してください***"
      ]
    },
    {
      "cell_type": "code",
      "metadata": {
        "id": "0ip1LaKh4Hxu",
        "colab_type": "code",
        "colab": {
          "base_uri": "https://localhost:8080/",
          "height": 80
        },
        "outputId": "c003a146-6ca8-4467-996c-24b319da0905"
      },
      "source": [
        "# Script 3\n",
        "df_all_intermed[df_all_intermed.sc_num == 'Naga8r5']"
      ],
      "execution_count": 24,
      "outputs": [
        {
          "output_type": "execute_result",
          "data": {
            "text/html": [
              "<div>\n",
              "<style scoped>\n",
              "    .dataframe tbody tr th:only-of-type {\n",
              "        vertical-align: middle;\n",
              "    }\n",
              "\n",
              "    .dataframe tbody tr th {\n",
              "        vertical-align: top;\n",
              "    }\n",
              "\n",
              "    .dataframe thead th {\n",
              "        text-align: right;\n",
              "    }\n",
              "</style>\n",
              "<table border=\"1\" class=\"dataframe\">\n",
              "  <thead>\n",
              "    <tr style=\"text-align: right;\">\n",
              "      <th></th>\n",
              "      <th>state_code</th>\n",
              "      <th>location</th>\n",
              "      <th>sc_num</th>\n",
              "      <th>com_in</th>\n",
              "      <th>com_jp</th>\n",
              "      <th>biz_type</th>\n",
              "    </tr>\n",
              "  </thead>\n",
              "  <tbody>\n",
              "    <tr>\n",
              "      <th>1711</th>\n",
              "      <td>PB</td>\n",
              "      <td>Shahid Bhagat Sing</td>\n",
              "      <td>Naga8r5</td>\n",
              "      <td>SML ISUZU</td>\n",
              "      <td>住友商事&lt;br&gt;いすゞ自動車</td>\n",
              "      <td>18 輸送機械器具製造業/  Manufacturing – automobile , tw...</td>\n",
              "    </tr>\n",
              "  </tbody>\n",
              "</table>\n",
              "</div>"
            ],
            "text/plain": [
              "     state_code  ...                                           biz_type\n",
              "1711         PB  ...  18 輸送機械器具製造業/  Manufacturing – automobile , tw...\n",
              "\n",
              "[1 rows x 6 columns]"
            ]
          },
          "metadata": {
            "tags": []
          },
          "execution_count": 24
        }
      ]
    },
    {
      "cell_type": "code",
      "metadata": {
        "id": "BK_TRKjI6zkE",
        "colab_type": "code",
        "colab": {}
      },
      "source": [
        "# Script 4\n",
        "df_all_intermed.at[1711, 'sc_num'] = 85"
      ],
      "execution_count": 25,
      "outputs": []
    },
    {
      "cell_type": "code",
      "metadata": {
        "id": "mXaeSwKy7hir",
        "colab_type": "code",
        "colab": {
          "base_uri": "https://localhost:8080/",
          "height": 238
        },
        "outputId": "c35e38dc-9a03-422f-b7b4-4803ccb095f7"
      },
      "source": [
        "# Script 5\n",
        "df_all_intermed.sc_num = df_all_intermed.sc_num.astype(float)\n",
        "df_all_intermed.sc_num = df_all_intermed.sc_num.astype(int)\n",
        "# Confirm the results.\n",
        "df_all_intermed.info()"
      ],
      "execution_count": 26,
      "outputs": [
        {
          "output_type": "stream",
          "text": [
            "<class 'pandas.core.frame.DataFrame'>\n",
            "RangeIndex: 5102 entries, 0 to 5101\n",
            "Data columns (total 6 columns):\n",
            " #   Column      Non-Null Count  Dtype \n",
            "---  ------      --------------  ----- \n",
            " 0   state_code  5102 non-null   object\n",
            " 1   location    5102 non-null   object\n",
            " 2   sc_num      5102 non-null   int64 \n",
            " 3   com_in      5102 non-null   object\n",
            " 4   com_jp      4936 non-null   object\n",
            " 5   biz_type    5102 non-null   object\n",
            "dtypes: int64(1), object(5)\n",
            "memory usage: 239.3+ KB\n"
          ],
          "name": "stdout"
        }
      ]
    },
    {
      "cell_type": "markdown",
      "metadata": {
        "id": "nhu5r04xOahU",
        "colab_type": "text"
      },
      "source": [
        "# 州略記列 (state_code colunn) の準備"
      ]
    },
    {
      "cell_type": "markdown",
      "metadata": {
        "id": "3Ls_9yyl2ntw",
        "colab_type": "text"
      },
      "source": [
        "## state_code colunn の並び順序（sort order）の定義\n",
        "- オリジナル PDF の目次（pp.3-4）を基準にするので、オリジナルの目次を tabula で読み込みます（Script 1）。\n",
        "    - 最初の回（[立志篇](https://ggcs.io/2020/08/05/google-colab-pdf-export-01/)）で pp.5-112 を読み込んだのとまったく同じ手順で、読み込むページだけが異なります。\n",
        "    - tabula.read_pdf() で返ってくるのは、PDF のページごとに作った DataFrame（以下「DF」）なので、pd.concat() で 1 個の DF に繋げます。"
      ]
    },
    {
      "cell_type": "code",
      "metadata": {
        "id": "nAJ-2WXw3DKn",
        "colab_type": "code",
        "colab": {}
      },
      "source": [
        "#Script 6\n",
        "# Get a list of DFs.\n",
        "df_toc_list = tabula.read_pdf(\n",
        "    os.path.join(DATA_PATH, '2018_co_list_jp_r.pdf'), pages='3-4')\n",
        "# Concatenate DFs in the df_toc_list into one single DF.\n",
        "df_toc = pd.concat(df_toc_list)\n",
        "# うまく読み取れたかな？（抜粋）\n",
        "df_toc[4:43]"
      ],
      "execution_count": null,
      "outputs": []
    },
    {
      "cell_type": "markdown",
      "metadata": {
        "id": "aT5wHztp4dPk",
        "colab_type": "text"
      },
      "source": [
        "- State code の取り出し\n",
        "  - Column 'Unnamed: 3' に州の略称（state code）が入っているので、これを取り出したい。\n",
        "  - その際、unique() で重複データ除去（Script 7）。\n",
        "  - 大丈夫だとは思いますが、念のためオリジナルの PDF を付き合わせて指差確認。\n",
        "  - 漏れ重複なし。順序にも問題なし！ state_code column 準備完了（Script 8）！"
      ]
    },
    {
      "cell_type": "code",
      "metadata": {
        "id": "mWH0sb9E37a5",
        "colab_type": "code",
        "colab": {}
      },
      "source": [
        "# Script 7\n",
        "# Extract state codes from column 'df_toc['Unnamed: 3'].unique()\n",
        "df_toc['Unnamed: 3'].unique()"
      ],
      "execution_count": null,
      "outputs": []
    },
    {
      "cell_type": "code",
      "metadata": {
        "id": "aliAJOO544O9",
        "colab_type": "code",
        "colab": {}
      },
      "source": [
        "# Script 8\n",
        "# Define state codes and their order.\n",
        "state_code_order = ['DL', 'HR', 'UP', 'RJ', 'CH', 'PB', 'UK', 'HP', 'JK', 'AS',\n",
        "       'AR', 'MN', 'ML', 'MZ', 'SK', 'TR', 'WB', 'JH', 'OD', 'BR', 'MH',\n",
        "       'GJ', 'MP', 'GA', 'CG', 'DD', 'DN', 'KA', 'TN', 'AP', 'TS', 'KL',\n",
        "       'PY']"
      ],
      "execution_count": 29,
      "outputs": []
    },
    {
      "cell_type": "markdown",
      "metadata": {
        "id": "fvY_U2iDPF77",
        "colab_type": "text"
      },
      "source": [
        "## Categorical data を利用した custom sort\n",
        "- ここでは、Microsoft Excel でいうところの、*並べ替え > ユーザー設定リスト* と同様な操作を行うため、sc_num colunm を Pandas の Categorical date に変換し、上記（Script 9）で定義した カテゴリーの順序も指定します。\n",
        "- Categorical data のやや詳しい説明は、[Pandas: DataFrame の任意の列を任意の順序でソート する](https://ggcs.io/2020/08/16/pandas-custom-sort/) に書きましたので、ここではちょっと手を抜いて結論だけ（Script 9） 😴\n",
        "- といいつつちょっと蛇足を加えると、Excel の場合と違って、categorical data は自分自身で自分の順序を覚えているので、sort のときにはいちいち順序を指定する必要はありません。"
      ]
    },
    {
      "cell_type": "code",
      "metadata": {
        "id": "_HD-7IJl9Zc5",
        "colab_type": "code",
        "colab": {}
      },
      "source": [
        "# Script 9\n",
        "# \b\b念のため、Copy に対して作業することにします。\n",
        "df_sorted = df_all_intermed.copy() # sc_num の掃除は既に済んでいる。\n",
        "# state_code column の data type を categorical にし、順序も定義。\n",
        "df_sorted.state_code = pd.Categorical(\n",
        "    df_sorted.state_code, categories=state_code_order, ordered=True)"
      ],
      "execution_count": 30,
      "outputs": []
    },
    {
      "cell_type": "markdown",
      "metadata": {
        "id": "JyPjD2fj8amb",
        "colab_type": "text"
      },
      "source": [
        "# Let's SORT!\n",
        "- 基本的な枠組みは、 普通に sort_values() を使って state_code > sc_num　の階層で sort するだけです（Script 10）。\n",
        "- 上の準備で苦労した甲斐あって、そのまま普通に sort すれば、state_code は定義された独自の順序で、sc_num は数値（int）順に、それぞれ sort されます。\n",
        "- だいぶ良い感じになりました 🍻"
      ]
    },
    {
      "cell_type": "code",
      "metadata": {
        "id": "3mTEheIk-Tjw",
        "colab_type": "code",
        "colab": {}
      },
      "source": [
        "# Script 10\n",
        "# Sort the whole DF.\n",
        "df_sorted.sort_values(by=['state_code', 'sc_num'], inplace=True)\n",
        "# reset the index.\n",
        "df_sorted.reset_index(drop=True, inplace=True)\n",
        "df_sorted.head(16)"
      ],
      "execution_count": null,
      "outputs": []
    },
    {
      "cell_type": "markdown",
      "metadata": {
        "id": "UB0jP2AEZktZ",
        "colab_type": "text"
      },
      "source": [
        "# Sneak Preview"
      ]
    },
    {
      "cell_type": "markdown",
      "metadata": {
        "id": "ay_lRZ7sYqFs",
        "colab_type": "text"
      },
      "source": [
        "- 既にお気づきのように、この DF にはもう一つ Categorical な column, biz_type があります。\n",
        "- ちょっと覗いてみると、Script 99 のような状況です。\n",
        "- [Triad 退治](https://ggcs.io/2020/08/11/google-colab-pdf-export-02/#scr004) の後遺症などもあって、オリジナル PDF のデータがだいぶ撹乱されていますが、次回はその整序などを行いたいと思います。"
      ]
    },
    {
      "cell_type": "code",
      "metadata": {
        "id": "-TKdVeQWZAna",
        "colab_type": "code",
        "colab": {}
      },
      "source": [
        "# Script 99\n",
        "sorted(df_sorted.biz_type.unique())"
      ],
      "execution_count": null,
      "outputs": []
    }
  ]
}