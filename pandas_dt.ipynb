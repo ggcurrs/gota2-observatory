{
 "cells": [
  {
   "cell_type": "markdown",
   "metadata": {
    "id": "foobar"
   },
   "source": [
    "# Preface\n",
    "- この Notebook は、[Pandas: そのloopちょっと待て！](https://ggcs.io/2020/10/25/python-pip-move/pandas-accessors-dt) の手順詳細版です。¶\n",
    "  - Website: ごたごた気流調査所 https://ggcs.io\n",
    "  - GitHub : Gota Gota Current Survey https://github.com/ggcurrs/gota2-observatory\n",
    "  - Version 1.0.0\n",
    "  - Date : 2020-10-25\n",
    "  - Updated: None"
   ]
  },
  {
   "cell_type": "markdown",
   "metadata": {
    "id": "foobar"
   },
   "source": [
    "# Data 読み込み\n",
    "- CSVなどから元データ（テキストデータ）を Pandas DataFreme （以下、「DF」）に読み込みます。"
   ]
  },
  {
   "cell_type": "code",
   "execution_count": 5,
   "metadata": {
    "colab": {
     "base_uri": "https://localhost:8080/",
     "height": 173
    },
    "id": "foobar",
    "outputId": "foobar"
   },
   "outputs": [
    {
     "data": {
      "text/html": [
       "<div>\n",
       "<style scoped>\n",
       "    .dataframe tbody tr th:only-of-type {\n",
       "        vertical-align: middle;\n",
       "    }\n",
       "\n",
       "    .dataframe tbody tr th {\n",
       "        vertical-align: top;\n",
       "    }\n",
       "\n",
       "    .dataframe thead th {\n",
       "        text-align: right;\n",
       "    }\n",
       "</style>\n",
       "<table border=\"1\" class=\"dataframe\">\n",
       "  <thead>\n",
       "    <tr style=\"text-align: right;\">\n",
       "      <th></th>\n",
       "      <th>DATE_AND_TIME</th>\n",
       "      <th>EVENT</th>\n",
       "    </tr>\n",
       "  </thead>\n",
       "  <tbody>\n",
       "    <tr>\n",
       "      <th>0</th>\n",
       "      <td>2020-01-01 06:50</td>\n",
       "      <td>Sunrise in Tokyo</td>\n",
       "    </tr>\n",
       "    <tr>\n",
       "      <th>1</th>\n",
       "      <td>2020-01-01 10:50</td>\n",
       "      <td>Moonrise in Tokyo</td>\n",
       "    </tr>\n",
       "    <tr>\n",
       "      <th>2</th>\n",
       "      <td>2020-01-01 16:38</td>\n",
       "      <td>Sunset in Tokyo</td>\n",
       "    </tr>\n",
       "    <tr>\n",
       "      <th>3</th>\n",
       "      <td>2020-01-01 22:16</td>\n",
       "      <td>Moonset in Tokyo</td>\n",
       "    </tr>\n",
       "  </tbody>\n",
       "</table>\n",
       "</div>"
      ],
      "text/plain": [
       "      DATE_AND_TIME              EVENT\n",
       "0  2020-01-01 06:50   Sunrise in Tokyo\n",
       "1  2020-01-01 10:50  Moonrise in Tokyo\n",
       "2  2020-01-01 16:38    Sunset in Tokyo\n",
       "3  2020-01-01 22:16   Moonset in Tokyo"
      ]
     },
     "execution_count": 5,
     "metadata": {},
     "output_type": "execute_result"
    }
   ],
   "source": [
    "import pandas as pd\n",
    "\n",
    "df = pd.DataFrame(\n",
    "    {'DATE_AND_TIME':\n",
    "         ['2020-01-01 06:50',\n",
    "          '2020-01-01 10:50',\n",
    "          '2020-01-01 16:38',\n",
    "          '2020-01-01 22:16'],\n",
    "     'EVENT':\n",
    "         ['Sunrise in Tokyo',\n",
    "          'Moonrise in Tokyo',\n",
    "          'Sunset in Tokyo',\n",
    "          'Moonset in Tokyo']\n",
    "     }\n",
    ")\n",
    "\n",
    "# This DF is spared for later use...🤫\n",
    "df2 = df.copy()\n",
    "\n",
    "# Confirm\n",
    "df.head()"
   ]
  },
  {
   "cell_type": "markdown",
   "metadata": {
    "id": "foobar"
   },
   "source": [
    "# 日時データを Timestamp に変換\n",
    "- DATE_AND_TIME 列（Series）を取り出して見ると、読み込んだばかりなのでデータはもちろんただの str （テキストデータ）で、Pandas としては日付・時刻データだとは思っていませんから、何かと不便です。"
   ]
  },
  {
   "cell_type": "code",
   "execution_count": 6,
   "metadata": {
    "colab": {
     "base_uri": "https://localhost:8080/",
     "height": 102
    },
    "id": "foobar",
    "outputId": "foobar"
   },
   "outputs": [
    {
     "data": {
      "text/plain": [
       "0    2020-01-01 06:50\n",
       "1    2020-01-01 10:50\n",
       "2    2020-01-01 16:38\n",
       "3    2020-01-01 22:16\n",
       "Name: DATE_AND_TIME, dtype: object"
      ]
     },
     "execution_count": 6,
     "metadata": {},
     "output_type": "execute_result"
    }
   ],
   "source": [
    "# Raw DataFreme\n",
    "df.DATE_AND_TIME"
   ]
  },
  {
   "cell_type": "markdown",
   "metadata": {
    "id": "foobar"
   },
   "source": [
    "## pandas.to_datetime() 登場！\n",
    "- そこで、秘技「pandas.to_datatime()」を使って data type を datetime に変換します。\n",
    "\n",
    "cf. [Pandas: CSVに文字型で記録されている日付と時間をPandasに読み込んだ後、日付・時刻型に一発変換したい](https://ggcs.io/2020/05/10/pandas-date-time-format/)"
   ]
  },
  {
   "cell_type": "code",
   "execution_count": 7,
   "metadata": {
    "colab": {
     "base_uri": "https://localhost:8080/",
     "height": 102
    },
    "id": "foobar",
    "outputId": "foobar"
   },
   "outputs": [
    {
     "data": {
      "text/plain": [
       "0   2020-01-01 06:50:00\n",
       "1   2020-01-01 10:50:00\n",
       "2   2020-01-01 16:38:00\n",
       "3   2020-01-01 22:16:00\n",
       "Name: DATE_AND_TIME, dtype: datetime64[ns]"
      ]
     },
     "execution_count": 7,
     "metadata": {},
     "output_type": "execute_result"
    }
   ],
   "source": [
    "# Convert object(str) to datetime \n",
    "df.DATE_AND_TIME = pd.to_datetime(df.DATE_AND_TIME)\n",
    "\n",
    "# Confirm\n",
    "df.DATE_AND_TIME"
   ]
  },
  {
   "cell_type": "markdown",
   "metadata": {
    "id": "foobar"
   },
   "source": [
    "## 日付データだけ抽出したい"
   ]
  },
  {
   "cell_type": "markdown",
   "metadata": {
    "id": "foobar"
   },
   "source": [
    "- この表のデータは全部 2020 年の元日のものなので、日付は冗長でいらないかも、ということで、時刻データだけを取り出すことにします。\n",
    "- 元の str データのままだったら slice で取り出したり、場合によっては regex で切り出したりといろいろ面倒臭い話になるところでしたが、たったいま datetime 形式に変換したので、日付だろうが時刻だろうが自由自在に取り出せます。\n",
    "- ということで、`.strftime()` を使って時刻データを取り出すことにします（取り出し後は str データになります）。"
   ]
  },
  {
   "cell_type": "markdown",
   "metadata": {
    "id": "foobar"
   },
   "source": [
    "### strftime で日付文字列（str）に変換するぞ！　➡️　あれれ？！"
   ]
  },
  {
   "cell_type": "code",
   "execution_count": 8,
   "metadata": {
    "colab": {
     "base_uri": "https://localhost:8080/",
     "height": 317
    },
    "id": "foobar",
    "outputId": "foobar"
   },
   "outputs": [
    {
     "ename": "AttributeError",
     "evalue": "'Series' object has no attribute 'strftime'",
     "output_type": "error",
     "traceback": [
      "\u001b[0;31m---------------------------------------------------------------------------\u001b[0m",
      "\u001b[0;31mAttributeError\u001b[0m                            Traceback (most recent call last)",
      "\u001b[0;32m<ipython-input-8-e12e647ad3d1>\u001b[0m in \u001b[0;36m<module>\u001b[0;34m\u001b[0m\n\u001b[1;32m      2\u001b[0m \u001b[0;32mfrom\u001b[0m \u001b[0mdatetime\u001b[0m \u001b[0;32mimport\u001b[0m \u001b[0mdatetime\u001b[0m\u001b[0;34m\u001b[0m\u001b[0;34m\u001b[0m\u001b[0m\n\u001b[1;32m      3\u001b[0m \u001b[0;34m\u001b[0m\u001b[0m\n\u001b[0;32m----> 4\u001b[0;31m \u001b[0mdf\u001b[0m\u001b[0;34m.\u001b[0m\u001b[0mDATE_AND_TIME\u001b[0m\u001b[0;34m.\u001b[0m\u001b[0mstrftime\u001b[0m\u001b[0;34m(\u001b[0m\u001b[0;34m'%H:%M:%S'\u001b[0m\u001b[0;34m)\u001b[0m\u001b[0;34m\u001b[0m\u001b[0;34m\u001b[0m\u001b[0m\n\u001b[0m",
      "\u001b[0;32m/usr/local/lib/python3.8/site-packages/pandas/core/generic.py\u001b[0m in \u001b[0;36m__getattr__\u001b[0;34m(self, name)\u001b[0m\n\u001b[1;32m   5137\u001b[0m             \u001b[0;32mif\u001b[0m \u001b[0mself\u001b[0m\u001b[0;34m.\u001b[0m\u001b[0m_info_axis\u001b[0m\u001b[0;34m.\u001b[0m\u001b[0m_can_hold_identifiers_and_holds_name\u001b[0m\u001b[0;34m(\u001b[0m\u001b[0mname\u001b[0m\u001b[0;34m)\u001b[0m\u001b[0;34m:\u001b[0m\u001b[0;34m\u001b[0m\u001b[0;34m\u001b[0m\u001b[0m\n\u001b[1;32m   5138\u001b[0m                 \u001b[0;32mreturn\u001b[0m \u001b[0mself\u001b[0m\u001b[0;34m[\u001b[0m\u001b[0mname\u001b[0m\u001b[0;34m]\u001b[0m\u001b[0;34m\u001b[0m\u001b[0;34m\u001b[0m\u001b[0m\n\u001b[0;32m-> 5139\u001b[0;31m             \u001b[0;32mreturn\u001b[0m \u001b[0mobject\u001b[0m\u001b[0;34m.\u001b[0m\u001b[0m__getattribute__\u001b[0m\u001b[0;34m(\u001b[0m\u001b[0mself\u001b[0m\u001b[0;34m,\u001b[0m \u001b[0mname\u001b[0m\u001b[0;34m)\u001b[0m\u001b[0;34m\u001b[0m\u001b[0;34m\u001b[0m\u001b[0m\n\u001b[0m\u001b[1;32m   5140\u001b[0m \u001b[0;34m\u001b[0m\u001b[0m\n\u001b[1;32m   5141\u001b[0m     \u001b[0;32mdef\u001b[0m \u001b[0m__setattr__\u001b[0m\u001b[0;34m(\u001b[0m\u001b[0mself\u001b[0m\u001b[0;34m,\u001b[0m \u001b[0mname\u001b[0m\u001b[0;34m:\u001b[0m \u001b[0mstr\u001b[0m\u001b[0;34m,\u001b[0m \u001b[0mvalue\u001b[0m\u001b[0;34m)\u001b[0m \u001b[0;34m->\u001b[0m \u001b[0;32mNone\u001b[0m\u001b[0;34m:\u001b[0m\u001b[0;34m\u001b[0m\u001b[0;34m\u001b[0m\u001b[0m\n",
      "\u001b[0;31mAttributeError\u001b[0m: 'Series' object has no attribute 'strftime'"
     ]
    }
   ],
   "source": [
    "# strftime を使うためにはこれ👇が必要です。\n",
    "from datetime import datetime\n",
    "\n",
    "df.DATE_AND_TIME.strftime('%H:%M:%S')"
   ]
  },
  {
   "cell_type": "markdown",
   "metadata": {
    "id": "foobar"
   },
   "source": [
    "- `Series' object has no attribute 'strftime'` （Series に strftime アトリビュートは無いよ）とかどうとか言ってる。Excel みたいに列を一発変換とかできないの？不便だな…。`SEARCH STACK OVEERFLOW` リンクを辿るのも面倒だからここはササッと loop で回しちゃった方が早いだろう。\n",
    "- ほら、簡単にできちゃた！天才だな👺。"
   ]
  },
  {
   "cell_type": "code",
   "execution_count": null,
   "metadata": {
    "colab": {
     "base_uri": "https://localhost:8080/",
     "height": 173
    },
    "id": "foobar",
    "outputId": "foobar"
   },
   "outputs": [],
   "source": [
    "# 'f'ormat timedate to str.\n",
    "for i in range(len(df)):\n",
    "  df.at[i, 'DATE_AND_TIME'] = df.at[i, 'DATE_AND_TIME'].strftime('%H:%M:%S')\n",
    "\n",
    "# Confirm\n",
    "df\n",
    "# できた、できた！"
   ]
  },
  {
   "cell_type": "markdown",
   "metadata": {
    "id": "foobar"
   },
   "source": [
    "# 👹愚か者め！！！\n",
    "- などと蘊蓄を垂れていたら いずこからともなく神様の声が…\n",
    "「あんなぁ、Colab はんが親切に `SEARCH STACK OVEERFLOW` のリンクを貼ってくださってるんやから素直に読んだらええやんか？Pandas の三種の神器 dt, str, cat も知らずに loop とか抜かしてる場合やないで、ホンマ💢」\n",
    "- 「`pd.to_datetime` のあと、`dt` アクセサを使えば 1行で済む話！」\n",
    "\n",
    "えらいすんまへん 🙇‍♂️"
   ]
  },
  {
   "cell_type": "markdown",
   "metadata": {
    "id": "foobar"
   },
   "source": [
    "## ということで、仕切り直し。DF はやり直し用に用意しておいた df2 を使います。"
   ]
  },
  {
   "cell_type": "code",
   "execution_count": null,
   "metadata": {
    "colab": {
     "base_uri": "https://localhost:8080/",
     "height": 102
    },
    "id": "foobar",
    "outputId": "foobar"
   },
   "outputs": [],
   "source": [
    "# Startng over.\n",
    "# Convert object(str) to datetime \n",
    "df2.DATE_AND_TIME = pd.to_datetime(df2.DATE_AND_TIME)\n",
    "# Confirm\n",
    "df2.DATE_AND_TIME"
   ]
  },
  {
   "cell_type": "markdown",
   "metadata": {
    "id": "foobar"
   },
   "source": [
    "## で、`dt` （たぶん datetime の略）アクセサを使えば 1 行でおしまい😭"
   ]
  },
  {
   "cell_type": "code",
   "execution_count": null,
   "metadata": {
    "colab": {
     "base_uri": "https://localhost:8080/",
     "height": 102
    },
    "id": "foobar",
    "outputId": "foobar"
   },
   "outputs": [],
   "source": [
    "df2.DATE_AND_TIME = df2.DATE_AND_TIME.dt.time\n",
    "\n",
    "# Confirm\n",
    "df2.DATE_AND_TIME\n",
    "\n",
    "# Note that the dtype is 'object' (str)."
   ]
  },
  {
   "cell_type": "markdown",
   "metadata": {
    "id": "foobar"
   },
   "source": [
    "- 折角なので、列名（column name）を rename しておきます。"
   ]
  },
  {
   "cell_type": "code",
   "execution_count": null,
   "metadata": {
    "colab": {
     "base_uri": "https://localhost:8080/",
     "height": 173
    },
    "id": "foobar",
    "outputId": "foobar"
   },
   "outputs": [],
   "source": [
    "# Rename the column DATE_AND_TIME to TIME\n",
    "df2.rename(columns={'DATE_AND_TIME': 'TIME'}, inplace=True)\n",
    "df2"
   ]
  },
  {
   "cell_type": "markdown",
   "metadata": {
    "id": "foobar"
   },
   "source": [
    "**Enjoy!**"
   ]
  }
 ],
 "metadata": {
  "colab": {
   "name": "pandas_dt_demo",
   "provenance": [],
   "toc_visible": true
  },
  "kernelspec": {
   "display_name": "Python 3",
   "language": "python",
   "name": "python3"
  },
  "language_info": {
   "codemirror_mode": {
    "name": "ipython",
    "version": 3
   },
   "file_extension": ".py",
   "mimetype": "text/x-python",
   "name": "python",
   "nbconvert_exporter": "python",
   "pygments_lexer": "ipython3",
   "version": "3.8.5"
  }
 },
 "nbformat": 4,
 "nbformat_minor": 1
}
